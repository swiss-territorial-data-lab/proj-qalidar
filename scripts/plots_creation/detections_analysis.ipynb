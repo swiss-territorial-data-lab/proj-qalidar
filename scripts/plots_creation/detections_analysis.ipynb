{
 "cells": [
  {
   "cell_type": "code",
   "execution_count": null,
   "metadata": {},
   "outputs": [],
   "source": [
    "import os\n",
    "import pandas as pd\n",
    "import plotly.express as px\n",
    "import geopandas as gpd\n",
    "import numpy as np\n",
    "import pathlib"
   ]
  },
  {
   "cell_type": "code",
   "execution_count": null,
   "metadata": {},
   "outputs": [],
   "source": [
    "WORKING_DIR = '/mnt/data-01/nmunger/proj-qalidar/data'\n",
    "\n",
    "csv_dir =  '/mnt/data-01/nmunger/proj-qalidar/data/out_vis/2546500_1212000_saved_at-0602-0935/dataframes/2546500_1212000_change_detections.csv'\n",
    "\n",
    "tile_name = '2546500_1212000'\n",
    "\n",
    "voxel_dimension = 1.5\n",
    "\n",
    "os.chdir(WORKING_DIR)\n",
    "\n",
    "# If one plot is saved, will end up in this folder:\n",
    "plots_folder = 'plots'\n",
    "\n",
    "# If set to True, will save all the plots for which the cells are ran\n",
    "save_all_to_html = False\n",
    "save_all_to_jpeg = False\n",
    "\n",
    "df = pd.read_csv(csv_dir)"
   ]
  },
  {
   "cell_type": "code",
   "execution_count": null,
   "metadata": {},
   "outputs": [],
   "source": [
    "# tile_name, voxel_dimension, _ = os.path.basename(csv_dir).replace('.csv','').rsplit('_',maxsplit=2) # Define the tile name as the coordinates of the origin\n",
    "# voxel_dimension = int(voxel_dimension)/100 # Divide by 100 to get voxel dim in meters"
   ]
  },
  {
   "cell_type": "code",
   "execution_count": null,
   "metadata": {},
   "outputs": [],
   "source": [
    "df.head()"
   ]
  },
  {
   "cell_type": "code",
   "execution_count": null,
   "metadata": {},
   "outputs": [],
   "source": [
    "fig = px.histogram(df, x='criticality_number', title=f'Number of voxels per type of criticality change, voxel dim: {voxel_dimension}')\n",
    "fig.update_layout(xaxis_title=\"Criticality number\", yaxis_title=\"Number of voxels\")\n",
    "fig.update_layout(\n",
    "    xaxis = dict(\n",
    "        tick0 = 0,\n",
    "        dtick = 1\n",
    "    )\n",
    ")\n",
    "fig.show()"
   ]
  },
  {
   "cell_type": "code",
   "execution_count": null,
   "metadata": {},
   "outputs": [],
   "source": [
    "save_to_html = False\n",
    "save_to_jpeg = False\n",
    "if save_to_html or save_to_jpeg or save_all_to_html or save_all_to_jpeg:\n",
    "    pathlib.Path(plots_folder).mkdir(parents=True, exist_ok=True)\n",
    "    if save_to_html or save_all_to_html:\n",
    "        plot_name = tile_name + '_' + str(int(voxel_dimension*100)) + 'number_voxels_per_criticality_number.html'\n",
    "        fig.write_html(os.path.join(plots_folder,plot_name))\n",
    "    if save_to_jpeg or save_all_to_jpeg:\n",
    "        plot_name = tile_name + '_' + str(int(voxel_dimension*100)) + 'number_voxels_per_criticality_number.jpeg'\n",
    "        fig.write_image(os.path.join(plots_folder,plot_name),scale = 2)"
   ]
  },
  {
   "cell_type": "code",
   "execution_count": null,
   "metadata": {},
   "outputs": [],
   "source": [
    "# Creating plot showing the percentage of voxels per criticality labels\n",
    "plot_df0 = df.groupby('criticality_number').size().reset_index(name='voxel_count')\n",
    "plot_df0['voxel_percentage']= plot_df0.voxel_count/plot_df0.voxel_count.sum()*100\n",
    "\n",
    "fig = px.bar(plot_df0,x='criticality_number',y='voxel_percentage',title=f'Percentage of voxels by type of criticality number, <br>for voxel dimension: {voxel_dimension}',\n",
    "             labels={'criticality_number': 'Criticality Number', 'voxel_percentage': 'Percentage'},\n",
    "             text=plot_df0['voxel_percentage'].round(3))\n",
    "\n",
    "fig.update_layout(\n",
    "    xaxis = dict(tick0 = 0, dtick = 1),\n",
    "    autosize=False,\n",
    "    width=1000,\n",
    "    height=600,\n",
    "    yaxis_range=[0,100]\n",
    ")\n",
    "\n",
    "fig.show()"
   ]
  },
  {
   "cell_type": "code",
   "execution_count": null,
   "metadata": {},
   "outputs": [],
   "source": [
    "save_to_html = False\n",
    "save_to_jpeg = False\n",
    "if save_to_html or save_to_jpeg or save_all_to_html or save_all_to_jpeg:\n",
    "    pathlib.Path(plots_folder).mkdir(parents=True, exist_ok=True)\n",
    "    if save_to_html or save_all_to_html:\n",
    "        plot_name = tile_name + '_' + str(int(voxel_dimension*100)) + 'percentage_voxels_per_criticality_number.html'\n",
    "        fig.write_html(os.path.join(plots_folder,plot_name))\n",
    "    if save_to_jpeg or save_all_to_jpeg:\n",
    "        plot_name = tile_name + '_' + str(int(voxel_dimension*100)) + 'percentage_voxels_per_criticality_number.jpeg'\n",
    "        fig.write_image(os.path.join(plots_folder,plot_name),scale = 2)"
   ]
  },
  {
   "cell_type": "code",
   "execution_count": null,
   "metadata": {},
   "outputs": [],
   "source": [
    "# Grouping the DataFrame by 'criticality_tag' and 'criticality_number' and counting the rows\n",
    "grouped_df = df.groupby(['criticality_tag', 'criticality_number']).size().reset_index(name='count')\n",
    "grouped_df['percentage'] = grouped_df['count']/grouped_df['count'].sum()*100\n",
    "grouped_df['criticality_number'] = grouped_df['criticality_number'].astype(str)\n",
    "# Create a bar plot using Plotly Express\n",
    "fig = px.bar(grouped_df, x='criticality_tag', y='percentage', color='criticality_number',\n",
    "             title=f'Percentage of voxel by type of criticality changes, for voxel dimension: {voxel_dimension}',\n",
    "             labels={'criticality_tag': 'Change Criticality', 'count': 'Percentage'})\n",
    "fig.update_layout(yaxis_range=[0,100]) # Show the whole y axis from 0 to 100 \n",
    "\n",
    "fig.show()"
   ]
  },
  {
   "cell_type": "code",
   "execution_count": null,
   "metadata": {},
   "outputs": [],
   "source": [
    "save_to_html = False\n",
    "save_to_jpeg = False\n",
    "if save_to_html or save_to_jpeg or save_all_to_html or save_all_to_jpeg:\n",
    "    pathlib.Path(plots_folder).mkdir(parents=True, exist_ok=True)\n",
    "    if save_to_html or save_all_to_html:\n",
    "        plot_name = tile_name + '_' + str(int(voxel_dimension*100)) + 'percentage_voxels_per_criticality_tag.html'\n",
    "        fig.write_html(os.path.join(plots_folder,plot_name))\n",
    "    if save_to_jpeg or save_all_to_jpeg:\n",
    "        plot_name = tile_name + '_' + str(int(voxel_dimension*100)) + 'percentage_voxels_per_criticality_tag.jpeg'\n",
    "        fig.write_image(os.path.join(plots_folder,plot_name),scale = 2)"
   ]
  },
  {
   "cell_type": "markdown",
   "metadata": {},
   "source": [
    "Evaluating under which category of voxels the points fall"
   ]
  },
  {
   "cell_type": "code",
   "execution_count": null,
   "metadata": {},
   "outputs": [],
   "source": [
    "df['total_points_prev'] = df.iloc[:, df.columns.str.contains('_prev')].sum(axis=1)\n",
    "df['total_points_new'] = df.iloc[:, df.columns.str.contains('_new')].sum(axis=1)"
   ]
  },
  {
   "cell_type": "code",
   "execution_count": null,
   "metadata": {},
   "outputs": [],
   "source": [
    "plot_df1 = df.groupby('criticality_number')[['total_points_prev','total_points_new']].sum().reset_index()\n",
    "plot_df1['per_points_prev'] = plot_df1['total_points_prev']/plot_df1['total_points_prev'].sum()*100\n",
    "plot_df1['per_points_new'] = plot_df1['total_points_new']/plot_df1['total_points_new'].sum()*100\n",
    "\n",
    "fig = px.bar(plot_df1,x='criticality_number',y=['per_points_new','per_points_prev'],title=f'Percentage of point by type of criticality changes label, <br>for voxel dimension: {voxel_dimension}',\n",
    "             labels={'criticality_number': 'Change Criticality', 'value': 'Percentage'},barmode='group')\n",
    "\n",
    "fig.update_layout(\n",
    "    xaxis = dict(tick0 = 0, dtick = 1),\n",
    "    autosize=False,\n",
    "    width=1000,\n",
    "    height=600,\n",
    "    yaxis_range=[0,100]\n",
    ")\n",
    "\n",
    "fig.show()"
   ]
  },
  {
   "cell_type": "code",
   "execution_count": null,
   "metadata": {},
   "outputs": [],
   "source": [
    "save_to_html = False\n",
    "save_to_jpeg = False\n",
    "if save_to_html or save_to_jpeg or save_all_to_html or save_all_to_jpeg:\n",
    "    pathlib.Path(plots_folder).mkdir(parents=True, exist_ok=True)\n",
    "    if save_to_html or save_all_to_html:\n",
    "        plot_name = tile_name + '_' + str(int(voxel_dimension*100)) + 'percentage_points_per_criticality_label_old_and_new.html'\n",
    "        fig.write_html(os.path.join(plots_folder,plot_name))\n",
    "    if save_to_jpeg or save_all_to_jpeg:\n",
    "        plot_name = tile_name + '_' + str(int(voxel_dimension*100)) + 'percentage_points_per_criticality_label_old_and_new.jpeg'\n",
    "        fig.write_image(os.path.join(plots_folder,plot_name),scale = 2)"
   ]
  },
  {
   "cell_type": "code",
   "execution_count": null,
   "metadata": {},
   "outputs": [],
   "source": [
    "fig = px.bar(plot_df1,x='criticality_number',y='per_points_new',#title=f'Percentage of point by type of criticality changes label', #, <br>for voxel dimension: {voxel_dimension}',\n",
    "             labels={'criticality_number': 'Criticality Number', 'per_points_new': 'Percentage'},\n",
    "             text=plot_df1['per_points_new'].round(2))\n",
    "\n",
    "fig.update_layout(\n",
    "    xaxis = dict(tick0 = 0, dtick = 1),\n",
    "    autosize=False,\n",
    "    width=1000,\n",
    "    height=600,\n",
    "    yaxis_range=[0,100],\n",
    "    title=dict(font=dict(size=25)),\n",
    "    font=dict(size=14)\n",
    ")\n",
    "fig.add_annotation(text=f\"Non problematic<br>{round(plot_df1.loc[plot_df1.criticality_number<=6,'per_points_new'].sum(),2)}%\",\n",
    "                  align='center',\n",
    "                  x=3.5, y=90,showarrow=False,\n",
    "                  font=dict(size=16,),\n",
    "                    bordercolor=\"#008000\",\n",
    "                    borderwidth=2,\n",
    "                    borderpad=4)\n",
    "\n",
    "fig.add_annotation(text=f\"Grey zone<br>{round(plot_df1.loc[plot_df1.criticality_number.isin([7,8]),'per_points_new'].sum(),2)}%\",\n",
    "                  align='center',\n",
    "                  x=7.5, y=90,showarrow=False,\n",
    "                  font=dict(size=16,),\n",
    "                    bordercolor=\"#FFC300\",\n",
    "                    borderwidth=2,\n",
    "                    borderpad=4)\n",
    "                    \n",
    "fig.add_annotation(text=f\"Problematic<br>{round(plot_df1.loc[plot_df1.criticality_number>=9,'per_points_new'].sum(),2)}%\",\n",
    "                  align='center',\n",
    "                  x=11, y=90,showarrow=False,\n",
    "                  font=dict(size=16,),\n",
    "                    bordercolor=\"#D22B2B\",\n",
    "                    borderwidth=2,\n",
    "                    borderpad=4)\n",
    "\n",
    "fig.add_vline(x=6.5, line_width=1, line_dash=\"dash\")\n",
    "fig.add_vline(x=8.5, line_width=1, line_dash=\"dash\")\n",
    "fig.update_layout(margin=dict(l=20, r=20, t=20, b=20),)\n",
    "fig.show()"
   ]
  },
  {
   "cell_type": "code",
   "execution_count": null,
   "metadata": {},
   "outputs": [],
   "source": [
    "save_to_html = False\n",
    "save_to_jpeg = False\n",
    "if save_to_html or save_to_jpeg or save_all_to_html or save_all_to_jpeg:\n",
    "    pathlib.Path(plots_folder).mkdir(parents=True, exist_ok=True)\n",
    "    if save_to_html or save_all_to_html:\n",
    "        plot_name = tile_name + '_' + str(int(voxel_dimension*100)) + 'new_points_criticality_number_percentage.html'\n",
    "        fig.write_html(os.path.join(plots_folder,plot_name))\n",
    "    if save_to_jpeg or save_all_to_jpeg:\n",
    "        plot_name = tile_name + '_' + str(int(voxel_dimension*100)) + 'new_points_criticality_number_percentage.jpeg'\n",
    "        fig.write_image(os.path.join(plots_folder,plot_name),scale = 2)"
   ]
  },
  {
   "cell_type": "code",
   "execution_count": null,
   "metadata": {},
   "outputs": [],
   "source": [
    "plot_df1=df.groupby('criticality_tag')['total_points_new'].sum().to_frame().reset_index()\n",
    "plot_df1['per_points_new']=plot_df1['total_points_new']/plot_df1['total_points_new'].sum()*100\n",
    "\n",
    "fig = px.bar(plot_df1,x='criticality_tag',y='per_points_new',title=f'Percentage of point by type of criticality changes,<br>for voxel dimension: {voxel_dimension}',\n",
    "             labels={'criticality_tag': 'Change Criticality', 'per_points_new': 'Percentage'})\n",
    "\n",
    "fig.update_layout(\n",
    "    xaxis = dict(tick0 = 0, dtick = 1),\n",
    "    autosize=False,\n",
    "    width=600,\n",
    "    height=600,\n",
    "    yaxis_range=[0,100]\n",
    ")\n",
    "\n",
    "fig.show()\n",
    "\n",
    "if save_to_html:\n",
    "    plot_name = tile_name + '_' + str(int(voxel_dimension*100)) + 'points_per_type_of_criticality.html'\n",
    "    fig.write_html(os.path.join(plots_folder,plot_name))"
   ]
  },
  {
   "cell_type": "code",
   "execution_count": null,
   "metadata": {},
   "outputs": [],
   "source": [
    "save_to_html = False\n",
    "save_to_jpeg = False\n",
    "if save_to_html or save_to_jpeg or save_all_to_html or save_all_to_jpeg:\n",
    "    pathlib.Path(plots_folder).mkdir(parents=True, exist_ok=True)\n",
    "    if save_to_html or save_all_to_html:\n",
    "        plot_name = tile_name + '_' + str(int(voxel_dimension*100)) + 'new_points_per_criticality_tag_percentage.html'\n",
    "        fig.write_html(os.path.join(plots_folder,plot_name))\n",
    "    if save_to_jpeg or save_all_to_jpeg:\n",
    "        plot_name = tile_name + '_' + str(int(voxel_dimension*100)) + 'new_points_per_criticality_tag_percentage.jpeg'\n",
    "        fig.write_image(os.path.join(plots_folder,plot_name),scale = 2)"
   ]
  },
  {
   "cell_type": "markdown",
   "metadata": {},
   "source": [
    "### Compare class to class\n",
    "Here we try to compare the mean difference of point between the previous and new generation for each class. For each voxel, we must only consider the class which actually appear in one of the two generations, so as to not generate lots of difference = 0. "
   ]
  },
  {
   "cell_type": "code",
   "execution_count": null,
   "metadata": {},
   "outputs": [],
   "source": [
    "# Normalising factor = [total previous number of points]/[total new number of points]\n",
    "normalising_factor = df.iloc[:, df.columns.str.endswith('_prev')].to_numpy().sum()/df.iloc[:, df.columns.str.endswith('_new')].to_numpy().sum()\n",
    "# Normalise the new voxels\n",
    "df.iloc[:, df.columns.str.endswith('_new')] = df.iloc[:, df.columns.str.endswith('_new')]*normalising_factor"
   ]
  },
  {
   "cell_type": "code",
   "execution_count": null,
   "metadata": {
    "vscode": {
     "languageId": "ruby"
    }
   },
   "outputs": [],
   "source": [
    "# Create boolean mask where cell is True if some class is present in either the new or previous voxel,\n",
    "# and which is false if no presence of the class in either generation\n",
    "bool_mask = df.iloc[:,df.columns.str.endswith('new')].values.astype(bool) | df.iloc[:,df.columns.str.endswith('prev')].values.astype(bool)"
   ]
  },
  {
   "cell_type": "code",
   "execution_count": null,
   "metadata": {
    "vscode": {
     "languageId": "ruby"
    }
   },
   "outputs": [],
   "source": [
    "bool_mask"
   ]
  },
  {
   "cell_type": "code",
   "execution_count": null,
   "metadata": {},
   "outputs": [],
   "source": [
    "# Find for each class in each voxel the difference in number of points between new and previous generation\n",
    "diff_values = (df.iloc[:,df.columns.str.endswith('new')].values - df.iloc[:,df.columns.str.endswith('prev')].values)\n",
    "diff_values[:3]"
   ]
  },
  {
   "cell_type": "code",
   "execution_count": null,
   "metadata": {},
   "outputs": [],
   "source": [
    "# For class which were not present in either the new or previous gen., replace by nan so as to not influence the mean calculation\n",
    "diff_values[bool_mask==False] = np.NaN\n",
    "print(diff_values[:3])"
   ]
  },
  {
   "cell_type": "code",
   "execution_count": null,
   "metadata": {},
   "outputs": [],
   "source": [
    "diff_df = pd.DataFrame(diff_values, columns = df.columns[df.columns.str.endswith('_new')].str.replace('new', 'diff'))\n",
    "diff_df = diff_df.merge(df[['X_grid','Y_grid','Z_grid','criticality_tag','cosine_similarity','second_cosine_similarity']], how='inner', left_index=True, right_index=True)"
   ]
  },
  {
   "cell_type": "code",
   "execution_count": null,
   "metadata": {},
   "outputs": [],
   "source": [
    "grouped_by = diff_df.groupby('criticality_tag')[['1_diff','2_diff','3_diff','6_diff','7_diff','17_diff']].mean().reset_index()"
   ]
  },
  {
   "cell_type": "code",
   "execution_count": null,
   "metadata": {},
   "outputs": [],
   "source": [
    "fig = px.bar(grouped_by, x='criticality_tag', y=['1_diff','2_diff','3_diff','6_diff','7_diff','17_diff'], labels={'criticality_tag':'Type of change','value':'Mean difference in number of points <br>between previous and new gen.'},title=f'Difference between previous and new generation<br>Voxel size of {voxel_dimension} m')\n",
    "fig.add_hline(y=0)\n",
    "\n",
    "fig.update_layout(yaxis_range=[-60,25])\n",
    "\n",
    "fig.show()\n",
    "\n",
    "\n",
    "if save_to_html:\n",
    "    plot_name = tile_name + '_' + str(int(voxel_dimension*100)) + 'class_to_class_diff.html'\n",
    "    fig.write_html(os.path.join(plots_folder,plot_name))"
   ]
  },
  {
   "cell_type": "code",
   "execution_count": null,
   "metadata": {},
   "outputs": [],
   "source": [
    "save_to_html = False\n",
    "save_to_jpeg = False\n",
    "if save_to_html or save_to_jpeg or save_all_to_html or save_all_to_jpeg:\n",
    "    pathlib.Path(plots_folder).mkdir(parents=True, exist_ok=True)\n",
    "    if save_to_html or save_all_to_html:\n",
    "        plot_name = tile_name + '_' + str(int(voxel_dimension*100)) + 'class_to_class_diff.html'\n",
    "        fig.write_html(os.path.join(plots_folder,plot_name))\n",
    "    if save_to_jpeg or save_all_to_jpeg:\n",
    "        plot_name = tile_name + '_' + str(int(voxel_dimension*100)) + 'class_to_class_diff.jpeg'\n",
    "        fig.write_image(os.path.join(plots_folder,plot_name),scale = 2)"
   ]
  },
  {
   "cell_type": "markdown",
   "metadata": {},
   "source": [
    "### Check under which category of voxel the points of interest fall :\n",
    "This was done as an attempt to analyse quickly the attribution in criticality of certain points of interest. Not really used anymore, left for legacy."
   ]
  },
  {
   "cell_type": "code",
   "execution_count": null,
   "metadata": {},
   "outputs": [],
   "source": [
    "gdf=gpd.read_file('/home/nmunger/Desktop/points_of_interest.geojson')"
   ]
  },
  {
   "cell_type": "code",
   "execution_count": null,
   "metadata": {},
   "outputs": [],
   "source": [
    "def matching_voxel_id(x, y, z, df):\n",
    "    index_array = df[(abs(df.X_grid - x)<vox_width/2) & (abs(df.Y_grid - y)<vox_width/2) & (abs(df.Z_grid - z)<vox_width/2)  ].index.to_numpy()\n",
    "    \n",
    "    if len(index_array) > 1:\n",
    "        raise ValueError\n",
    "    \n",
    "    else:\n",
    "        return index_array[0]"
   ]
  },
  {
   "cell_type": "code",
   "execution_count": null,
   "metadata": {},
   "outputs": [],
   "source": [
    "gdf['matching_voxel']=gdf.geometry.get_coordinates(include_z=True).apply(lambda point: matching_voxel_id(point.x, point.y, point.z, df), axis=1)"
   ]
  },
  {
   "cell_type": "code",
   "execution_count": null,
   "metadata": {},
   "outputs": [],
   "source": [
    "print('Vox size:', vox_width)\n",
    "gdf.merge(df, left_on='matching_voxel',right_index=True, how='left').iloc[:,[0,1,18,19]]"
   ]
  },
  {
   "cell_type": "code",
   "execution_count": null,
   "metadata": {},
   "outputs": [],
   "source": [
    "gdf.merge(df, left_on='matching_voxel',right_index=True, how='left').iloc[:,6:18]"
   ]
  }
 ],
 "metadata": {
  "kernelspec": {
   "display_name": "qalidar",
   "language": "python",
   "name": "python3"
  },
  "language_info": {
   "codemirror_mode": {
    "name": "ipython",
    "version": 3
   },
   "file_extension": ".py",
   "mimetype": "text/x-python",
   "name": "python",
   "nbconvert_exporter": "python",
   "pygments_lexer": "ipython3",
   "version": "3.10.12"
  }
 },
 "nbformat": 4,
 "nbformat_minor": 2
}
