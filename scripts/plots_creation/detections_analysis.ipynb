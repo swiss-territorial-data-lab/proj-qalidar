{
 "cells": [
  {
   "cell_type": "markdown",
   "metadata": {},
   "source": [
    "The necessary libraries for this script are not included in the requirement file. You will need to install additionally plotly and nbformat. You can use the following commands:\n",
    "\n",
    "```bash\n",
    "pip install plotly\n",
    "pip install nbformat\n",
    "```"
   ]
  },
  {
   "cell_type": "markdown",
   "metadata": {},
   "source": [
    "**Warning**: On Windows 10, the export as jpeg sometimes runs endlessly without producing an output. If that the case, reinstall kaleido with `pip install --upgrade \"kaleido==0.1.*\"`."
   ]
  },
  {
   "cell_type": "code",
   "execution_count": null,
   "metadata": {},
   "outputs": [],
   "source": [
    "import os\n",
    "import pathlib\n",
    "import geopandas as gpd\n",
    "import numpy as np\n",
    "import pandas as pd\n",
    "import plotly.express as px\n",
    "from shapely.geometry import Point"
   ]
  },
  {
   "cell_type": "code",
   "execution_count": null,
   "metadata": {},
   "outputs": [],
   "source": [
    "WORKING_DIR = '../..'\n",
    "\n",
    "csv_dir =  'outputs/full_workflow/csv/2547000_1211500_change_detections.csv'\n",
    "\n",
    "tile_name = '2547000_1211500'\n",
    "\n",
    "voxel_size = 1.5\n",
    "\n",
    "os.chdir(WORKING_DIR)\n",
    "\n",
    "# If one plot is saved, will end up in this folder:\n",
    "plots_folder = 'outputs/plots'\n",
    "\n",
    "# If set to True, will save all the plots for which the cells are ran\n",
    "save_all_to_html = True\n",
    "save_all_to_jpeg = True\n",
    "\n",
    "df = pd.read_csv(csv_dir)"
   ]
  },
  {
   "cell_type": "code",
   "execution_count": null,
   "metadata": {},
   "outputs": [],
   "source": [
    "# tile_name, voxel_size, _ = os.path.basename(csv_dir).replace('.csv','').rsplit('_',maxsplit=2) # Define the tile name as the coordinates of the origin\n",
    "# voxel_size = int(voxel_size)/100 # Divide by 100 to get voxel dim in meters"
   ]
  },
  {
   "cell_type": "code",
   "execution_count": null,
   "metadata": {},
   "outputs": [],
   "source": [
    "df.head()"
   ]
  },
  {
   "cell_type": "markdown",
   "metadata": {},
   "source": [
    "Evaluating the voxels by category"
   ]
  },
  {
   "cell_type": "code",
   "execution_count": null,
   "metadata": {},
   "outputs": [],
   "source": [
    "fig = px.histogram(df, x='criticality_number', title=f'Number of voxels per type of criticality change, voxel dim: {voxel_size} m')\n",
    "fig.update_layout(xaxis_title=\"Criticality number\", yaxis_title=\"Number of voxels\")\n",
    "fig.update_layout(\n",
    "    xaxis = dict(\n",
    "        tick0 = 0,\n",
    "        dtick = 1\n",
    "    )\n",
    ")\n",
    "fig.show()"
   ]
  },
  {
   "cell_type": "code",
   "execution_count": null,
   "metadata": {},
   "outputs": [],
   "source": [
    "save_to_html = False\n",
    "save_to_jpeg = False\n",
    "if save_to_html or save_to_jpeg or save_all_to_html or save_all_to_jpeg:\n",
    "    pathlib.Path(plots_folder).mkdir(parents=True, exist_ok=True)\n",
    "    if save_to_html or save_all_to_html:\n",
    "        plot_name = tile_name + '_' + str(int(voxel_size*100)) + 'number_voxels_per_criticality_number.html'\n",
    "        fig.write_html(os.path.join(plots_folder,plot_name))\n",
    "    if save_to_jpeg or save_all_to_jpeg:\n",
    "        plot_name = tile_name + '_' + str(int(voxel_size*100)) + 'number_voxels_per_criticality_number.jpeg'\n",
    "        fig.write_image(os.path.join(plots_folder,plot_name),scale = 2)"
   ]
  },
  {
   "cell_type": "code",
   "execution_count": null,
   "metadata": {},
   "outputs": [],
   "source": [
    "# Creating plot showing the percentage of voxels per criticality labels\n",
    "plot_df0 = df.groupby('criticality_number').size().reset_index(name='voxel_count')\n",
    "plot_df0['voxel_percentage']= plot_df0.voxel_count/plot_df0.voxel_count.sum()*100\n",
    "\n",
    "fig = px.bar(plot_df0,x='criticality_number',y='voxel_percentage',title=f'Percentage of voxels by type of criticality number, <br>for voxel size: {voxel_size} m',\n",
    "             labels={'criticality_number': 'Criticality Number', 'voxel_percentage': 'Percentage'},\n",
    "             text=plot_df0['voxel_percentage'].round(3))\n",
    "\n",
    "fig.update_layout(\n",
    "    xaxis = dict(tick0 = 0, dtick = 1),\n",
    "    autosize=False,\n",
    "    width=1000,\n",
    "    height=600,\n",
    "    yaxis_range=[0,100]\n",
    ")\n",
    "\n",
    "fig.show()"
   ]
  },
  {
   "cell_type": "code",
   "execution_count": null,
   "metadata": {},
   "outputs": [],
   "source": [
    "save_to_html = False\n",
    "save_to_jpeg = False\n",
    "if save_to_html or save_to_jpeg or save_all_to_html or save_all_to_jpeg:\n",
    "    pathlib.Path(plots_folder).mkdir(parents=True, exist_ok=True)\n",
    "    if save_to_html or save_all_to_html:\n",
    "        plot_name = tile_name + '_' + str(int(voxel_size*100)) + 'percentage_voxels_per_criticality_number.html'\n",
    "        fig.write_html(os.path.join(plots_folder,plot_name))\n",
    "    if save_to_jpeg or save_all_to_jpeg:\n",
    "        plot_name = tile_name + '_' + str(int(voxel_size*100)) + 'percentage_voxels_per_criticality_number.jpeg'\n",
    "        fig.write_image(os.path.join(plots_folder,plot_name),scale = 2)"
   ]
  },
  {
   "cell_type": "code",
   "execution_count": null,
   "metadata": {},
   "outputs": [],
   "source": [
    "# Grouping the DataFrame by 'criticality_tag' and 'criticality_number' and counting the rows\n",
    "grouped_df = df.groupby(['criticality_tag', 'criticality_number']).size().reset_index(name='count')\n",
    "grouped_df['percentage'] = grouped_df['count']/grouped_df['count'].sum()*100\n",
    "grouped_df['criticality_number'] = grouped_df['criticality_number'].astype(str)\n",
    "# Create a bar plot using Plotly Express\n",
    "fig = px.bar(grouped_df, x='criticality_tag', y='percentage', color='criticality_number',\n",
    "             title=f'Percentage of voxel by type of criticality changes, for voxel size: {voxel_size} m',\n",
    "             labels={'criticality_tag': 'Change Criticality', 'count': 'Percentage'})\n",
    "fig.update_layout(yaxis_range=[0,100]) # Show the whole y axis from 0 to 100 \n",
    "\n",
    "fig.show()"
   ]
  },
  {
   "cell_type": "code",
   "execution_count": null,
   "metadata": {},
   "outputs": [],
   "source": [
    "save_to_html = False\n",
    "save_to_jpeg = False\n",
    "if save_to_html or save_to_jpeg or save_all_to_html or save_all_to_jpeg:\n",
    "    pathlib.Path(plots_folder).mkdir(parents=True, exist_ok=True)\n",
    "    if save_to_html or save_all_to_html:\n",
    "        plot_name = tile_name + '_' + str(int(voxel_size*100)) + 'percentage_voxels_per_criticality_tag.html'\n",
    "        fig.write_html(os.path.join(plots_folder,plot_name))\n",
    "    if save_to_jpeg or save_all_to_jpeg:\n",
    "        plot_name = tile_name + '_' + str(int(voxel_size*100)) + 'percentage_voxels_per_criticality_tag.jpeg'\n",
    "        fig.write_image(os.path.join(plots_folder,plot_name),scale = 2)"
   ]
  },
  {
   "cell_type": "code",
   "execution_count": null,
   "metadata": {},
   "outputs": [],
   "source": [
    "geometry = [Point(xy) for xy in zip(df.X_grid, df.Y_grid)]\n",
    "gdf = gpd.GeoDataFrame(df[['criticality_tag', 'clusters', 'vox_id']], crs='EPSG:2056', geometry=geometry)\n",
    "gdf['geometry'] = gdf.geometry.buffer(voxel_size/2, cap_style=3)   "
   ]
  },
  {
   "cell_type": "code",
   "execution_count": null,
   "metadata": {},
   "outputs": [],
   "source": [
    "df.columns"
   ]
  },
  {
   "cell_type": "code",
   "execution_count": null,
   "metadata": {},
   "outputs": [],
   "source": [
    "gdf.head()"
   ]
  },
  {
   "cell_type": "code",
   "execution_count": null,
   "metadata": {},
   "outputs": [],
   "source": [
    "total_area = 501**2\n",
    "\n",
    "# Get the area covered by criticality level.\n",
    "area_proportion = {}\n",
    "gdf_subset = gdf[gdf.criticality_tag.isin(['grey_zone', 'problematic'])].copy()\n",
    "area_proportion['grey zone + problematic'] = round(gdf_subset.dissolve().area.iloc[0]/total_area*100, 2)\n",
    "gdf_subset = gdf[gdf.criticality_tag=='problematic'].copy()\n",
    "area_proportion['problematic'] = round(gdf_subset.dissolve().area.iloc[0]/total_area*100, 2)\n",
    "gdf_subset = gdf[~gdf.clusters.isin([0, 1])].copy()\n",
    "area_proportion['clustered'] = round(gdf_subset.dissolve().area.iloc[0]/total_area*100, 2)"
   ]
  },
  {
   "cell_type": "code",
   "execution_count": null,
   "metadata": {},
   "outputs": [],
   "source": [
    "pd.DataFrame({'granularity_level': area_proportion.keys(), 'covered_tile_part': area_proportion.values()}, index=[0, 1, 2])"
   ]
  },
  {
   "cell_type": "markdown",
   "metadata": {},
   "source": [
    "Evaluating under which category of voxels the points fall"
   ]
  },
  {
   "cell_type": "code",
   "execution_count": null,
   "metadata": {},
   "outputs": [],
   "source": [
    "df['prev_total_points'] = df.iloc[:, df.columns.str.contains('_prev')].sum(axis=1)\n",
    "df['new_total_points'] = df.iloc[:, df.columns.str.contains('_new')].sum(axis=1)"
   ]
  },
  {
   "cell_type": "code",
   "execution_count": null,
   "metadata": {},
   "outputs": [],
   "source": [
    "plot_df1 = df.groupby('criticality_number')[['prev_total_points','new_total_points']].sum().reset_index()\n",
    "plot_df1['per_points_prev'] = plot_df1['prev_total_points']/plot_df1['prev_total_points'].sum()*100\n",
    "plot_df1['per_points_new'] = plot_df1['new_total_points']/plot_df1['new_total_points'].sum()*100\n",
    "\n",
    "fig = px.bar(plot_df1,x='criticality_number',y=['per_points_new','per_points_prev'],title=f'Percentage of point by type of criticality changes label, <br>for voxel size: {voxel_size}',\n",
    "             labels={'criticality_number': 'Change Criticality', 'value': 'Percentage'},barmode='group')\n",
    "\n",
    "fig.update_layout(\n",
    "    xaxis = dict(tick0 = 0, dtick = 1),\n",
    "    autosize=False,\n",
    "    width=1000,\n",
    "    height=600,\n",
    "    yaxis_range=[0,100]\n",
    ")\n",
    "\n",
    "fig.show()"
   ]
  },
  {
   "cell_type": "code",
   "execution_count": null,
   "metadata": {},
   "outputs": [],
   "source": [
    "save_to_html = False\n",
    "save_to_jpeg = False\n",
    "if save_to_html or save_to_jpeg or save_all_to_html or save_all_to_jpeg:\n",
    "    pathlib.Path(plots_folder).mkdir(parents=True, exist_ok=True)\n",
    "    if save_to_html or save_all_to_html:\n",
    "        plot_name = tile_name + '_' + str(int(voxel_size*100)) + 'percentage_points_per_criticality_label_old_and_new.html'\n",
    "        fig.write_html(os.path.join(plots_folder,plot_name))\n",
    "    if save_to_jpeg or save_all_to_jpeg:\n",
    "        plot_name = tile_name + '_' + str(int(voxel_size*100)) + 'percentage_points_per_criticality_label_old_and_new.jpeg'\n",
    "        fig.write_image(os.path.join(plots_folder,plot_name),scale = 2)"
   ]
  },
  {
   "cell_type": "code",
   "execution_count": null,
   "metadata": {},
   "outputs": [],
   "source": [
    "fig = px.bar(plot_df1,x='criticality_number',y='per_points_new',#title=f'Percentage of point by type of criticality changes label', #, <br>for voxel size: {voxel_size}',\n",
    "             labels={'criticality_number': 'Criticality Number', 'per_points_new': 'Percentage'},\n",
    "             text=plot_df1['per_points_new'].round(2))\n",
    "\n",
    "fig.update_layout(\n",
    "    xaxis = dict(tick0 = 0, dtick = 1),\n",
    "    autosize=False,\n",
    "    width=1000,\n",
    "    height=600,\n",
    "    yaxis_range=[0,100],\n",
    "    title=dict(font=dict(size=25)),\n",
    "    font=dict(size=14)\n",
    ")\n",
    "fig.add_annotation(text=f\"Non-problematic<br>{round(plot_df1.loc[plot_df1.criticality_number<=6,'per_points_new'].sum(),2)}%\",\n",
    "                  align='center',\n",
    "                  x=3.5, y=90,showarrow=False,\n",
    "                  font=dict(size=16,),\n",
    "                    bordercolor=\"#008000\",\n",
    "                    borderwidth=2,\n",
    "                    borderpad=4)\n",
    "\n",
    "fig.add_annotation(text=f\"Grey zone<br>{round(plot_df1.loc[plot_df1.criticality_number.isin([7,8]),'per_points_new'].sum(),2)}%\",\n",
    "                  align='center',\n",
    "                  x=7.5, y=90,showarrow=False,\n",
    "                  font=dict(size=16,),\n",
    "                    bordercolor=\"#FFC300\",\n",
    "                    borderwidth=2,\n",
    "                    borderpad=4)\n",
    "                    \n",
    "fig.add_annotation(text=f\"Problematic<br>{round(plot_df1.loc[plot_df1.criticality_number>=9,'per_points_new'].sum(),2)}%\",\n",
    "                  align='center',\n",
    "                  x=11, y=90,showarrow=False,\n",
    "                  font=dict(size=16,),\n",
    "                    bordercolor=\"#D22B2B\",\n",
    "                    borderwidth=2,\n",
    "                    borderpad=4)\n",
    "\n",
    "fig.add_vline(x=6.5, line_width=1, line_dash=\"dash\")\n",
    "fig.add_vline(x=8.5, line_width=1, line_dash=\"dash\")\n",
    "fig.update_layout(margin=dict(l=20, r=20, t=20, b=20),)\n",
    "fig.show()"
   ]
  },
  {
   "cell_type": "code",
   "execution_count": null,
   "metadata": {},
   "outputs": [],
   "source": [
    "save_to_html = False\n",
    "save_to_jpeg = False\n",
    "if save_to_html or save_to_jpeg or save_all_to_html or save_all_to_jpeg:\n",
    "    pathlib.Path(plots_folder).mkdir(parents=True, exist_ok=True)\n",
    "    if save_to_html or save_all_to_html:\n",
    "        plot_name = tile_name + '_' + str(int(voxel_size*100)) + 'new_points_criticality_number_percentage.html'\n",
    "        fig.write_html(os.path.join(plots_folder,plot_name))\n",
    "    if save_to_jpeg or save_all_to_jpeg:\n",
    "        plot_name = tile_name + '_' + str(int(voxel_size*100)) + 'new_points_criticality_number_percentage.jpeg'\n",
    "        fig.write_image(os.path.join(plots_folder,plot_name),scale = 2)"
   ]
  },
  {
   "cell_type": "code",
   "execution_count": null,
   "metadata": {},
   "outputs": [],
   "source": [
    "plot_df1=df.groupby('criticality_tag')['new_total_points'].sum().to_frame().reset_index()\n",
    "plot_df1['per_points_new']=plot_df1['new_total_points']/plot_df1['new_total_points'].sum()*100\n",
    "\n",
    "fig = px.bar(plot_df1,x='criticality_tag',y='per_points_new',title=f'Percentage of point by type of criticality changes,<br>for voxel dimension: {voxel_size}',\n",
    "             labels={'criticality_tag': 'Change Criticality', 'per_points_new': 'Percentage'})\n",
    "\n",
    "fig.update_layout(\n",
    "    xaxis = dict(tick0 = 0, dtick = 1),\n",
    "    autosize=False,\n",
    "    width=600,\n",
    "    height=600,\n",
    "    yaxis_range=[0,100]\n",
    ")\n",
    "\n",
    "fig.show()\n",
    "\n",
    "if save_to_html:\n",
    "    plot_name = tile_name + '_' + str(int(voxel_size*100)) + 'points_per_type_of_criticality.html'\n",
    "    fig.write_html(os.path.join(plots_folder,plot_name))"
   ]
  },
  {
   "cell_type": "code",
   "execution_count": null,
   "metadata": {},
   "outputs": [],
   "source": [
    "save_to_html = False\n",
    "save_to_jpeg = False\n",
    "if save_to_html or save_to_jpeg or save_all_to_html or save_all_to_jpeg:\n",
    "    pathlib.Path(plots_folder).mkdir(parents=True, exist_ok=True)\n",
    "    if save_to_html or save_all_to_html:\n",
    "        plot_name = tile_name + '_' + str(int(voxel_size*100)) + 'new_points_per_criticality_tag_percentage.html'\n",
    "        fig.write_html(os.path.join(plots_folder,plot_name))\n",
    "    if save_to_jpeg or save_all_to_jpeg:\n",
    "        plot_name = tile_name + '_' + str(int(voxel_size*100)) + 'new_points_per_criticality_tag_percentage.jpeg'\n",
    "        fig.write_image(os.path.join(plots_folder,plot_name),scale = 2)"
   ]
  },
  {
   "cell_type": "code",
   "execution_count": null,
   "metadata": {},
   "outputs": [],
   "source": [
    "column_mapping_new = {\n",
    "    '1_new': 'Unclassified (1)',\n",
    "    '2_new': 'Ground (2)',\n",
    "    '3_new': 'Vegetation (3)',\n",
    "    '6_new': 'Building (6)',\n",
    "    '7_new': 'Noise (7)',\n",
    "    '9_new': 'Water (9)',\n",
    "    '17_new': 'Bridge (17)'\n",
    "}"
   ]
  },
  {
   "cell_type": "code",
   "execution_count": null,
   "metadata": {},
   "outputs": [],
   "source": [
    "new_classes_columns =[col for col in df if col.endswith('_new')]\n",
    "points_per_class_per_tag = df.groupby('criticality_tag')[new_classes_columns].sum()#.reset_index()\n",
    "points_per_class_per_tag.loc['total'] = points_per_class_per_tag.sum(numeric_only=True)\n",
    "points_per_class_per_tag.loc['total_normalised'] = points_per_class_per_tag.loc['total']/points_per_class_per_tag.loc['total'].sum()*100\n",
    "plot_df_class= points_per_class_per_tag.loc[['non_prob','grey_zone','problematic']].div(points_per_class_per_tag.loc[['non_prob','grey_zone','problematic']].sum(axis=0), axis=1)*100\n",
    "plot_df_class=plot_df_class.reindex(index = ['non_prob','grey_zone','problematic'])\n",
    "plot_df_class = pd.concat((plot_df_class,points_per_class_per_tag.loc[['total_normalised'],:]),axis=0)\n",
    "plot_df_class.index.names=['Label']\n",
    "plot_df_class=plot_df_class.rename(index={'non_prob':'Non-problematic', 'problematic':'Problematic', 'grey_zone':'Grey Zone', 'total_normalised':'Class presence in tile'})\n",
    "\n",
    "# Rename columns if they exist in the DataFrame\n",
    "plot_df_class.rename(columns={original_col_name: new_col_name for original_col_name, new_col_name in column_mapping_new.items() if original_col_name in plot_df_class.columns}, inplace=True)\n",
    "\n",
    "# Reshape the dataframe for Plotly Express\n",
    "plot_df_class = plot_df_class.reset_index().melt(id_vars='Label', var_name='column', value_name='percentage')\n",
    "\n",
    "# Rename columns if they exist in the DataFrame\n",
    "plot_df_class.rename(columns={original_col_name: new_col_name for original_col_name, new_col_name in column_mapping_new.items() if original_col_name in plot_df_class.columns}, inplace=True)\n",
    "\n",
    "# Plot the grouped bar chart\n",
    "fig = px.bar(plot_df_class, x='column', y='percentage', color='Label',\n",
    "             labels={\n",
    "                     \"column\": \"Classes\",\n",
    "                     \"percentage\": \"Percentage\",\n",
    "                     \"species\": \"Species of Iris\"\n",
    "                 },\n",
    "                #text=plot_df_class['percentage'].round(1),\n",
    "             #labels={'column': 'Columns', 'percentage': 'Percentage'},\n",
    "             color_discrete_map={'Grey Zone': '#FFD93D', 'Non-problematic': '#6BCB77', 'Problematic': '#FF6B6B','Class presence in tile':'#4D96FF'},\n",
    "             barmode='group')\n",
    "\n",
    "fig.update_layout(\n",
    "    xaxis = dict(tick0 = 0, dtick = 1),\n",
    "    autosize=False,\n",
    "    width=800,\n",
    "    height=500,\n",
    "    yaxis_range=[0,100],\n",
    "    margin=dict(l=20, r=20, t=20, b=20),\n",
    "    font=dict(size=12)\n",
    ")\n",
    "# Set text orientation to 90°\n",
    "#fig.update_traces( textangle=90,textfont=dict(size=16),texttemplate='%{y:.1f}%', constraintext='none')\n",
    "fig.update_yaxes(tickvals=np.arange(0,105,10))\n",
    "\n",
    "fig.show()"
   ]
  },
  {
   "cell_type": "code",
   "execution_count": null,
   "metadata": {},
   "outputs": [],
   "source": [
    "save_to_html = True\n",
    "save_to_jpeg = True\n",
    "if save_to_html or save_to_jpeg or save_all_to_html or save_all_to_jpeg:\n",
    "    pathlib.Path(plots_folder).mkdir(parents=True, exist_ok=True)\n",
    "    if save_to_html or save_all_to_html:\n",
    "        plot_name = tile_name + '_' + str(int(voxel_size*100)) + '_class_criticality_repartition.html'\n",
    "        fig.write_html(os.path.join(plots_folder,plot_name))\n",
    "    if save_to_jpeg or save_all_to_jpeg:\n",
    "        plot_name = tile_name + '_' + str(int(voxel_size*100)) + '_class_criticality_repartition.jpeg'\n",
    "        fig.write_image(os.path.join(plots_folder,plot_name),scale = 2)"
   ]
  },
  {
   "cell_type": "markdown",
   "metadata": {},
   "source": [
    "### Compare class to class\n",
    "Here we try to compare the mean difference of point between the previous and new generation for each class. For each voxel, we must only consider the class which actually appear in one of the two generations, so as to not generate lots of difference = 0. "
   ]
  },
  {
   "cell_type": "code",
   "execution_count": null,
   "metadata": {},
   "outputs": [],
   "source": [
    "# Normalising factor = [total previous number of points]/[total new number of points]\n",
    "normalising_factor = df.iloc[:, df.columns.str.endswith('_prev')].to_numpy().sum()/df.iloc[:, df.columns.str.endswith('_new')].to_numpy().sum()\n",
    "# Normalise the new voxels\n",
    "df.iloc[:, df.columns.str.endswith('_new')] = df.iloc[:, df.columns.str.endswith('_new')]*normalising_factor"
   ]
  },
  {
   "cell_type": "code",
   "execution_count": null,
   "metadata": {},
   "outputs": [],
   "source": [
    "# Create boolean mask where cell is True if some class is present in either the new or previous voxel,\n",
    "# and which is false if no presence of the class in either generation\n",
    "bool_mask = df.iloc[:,df.columns.str.endswith('new')].values.astype(bool) | df.iloc[:,df.columns.str.endswith('prev')].values.astype(bool)"
   ]
  },
  {
   "cell_type": "code",
   "execution_count": null,
   "metadata": {},
   "outputs": [],
   "source": [
    "# Find for each class in each voxel the difference in number of points between new and previous generation\n",
    "diff_values = (df.iloc[:,df.columns.str.endswith('new')].values - df.iloc[:,df.columns.str.endswith('prev')].values)\n",
    "diff_values[:3]"
   ]
  },
  {
   "cell_type": "code",
   "execution_count": null,
   "metadata": {},
   "outputs": [],
   "source": [
    "# For class which were not present in either the new or previous gen., replace by nan so as to not influence the mean calculation\n",
    "diff_values[bool_mask==False] = np.NaN\n",
    "print(diff_values[:3])"
   ]
  },
  {
   "cell_type": "code",
   "execution_count": null,
   "metadata": {},
   "outputs": [],
   "source": [
    "diff_df = pd.DataFrame(diff_values, columns = df.columns[df.columns.str.endswith('_new')].str.replace('new', 'diff'))\n",
    "diff_df = diff_df.merge(df[['X_grid','Y_grid','Z_grid','criticality_tag','cosine_similarity','second_cosine_similarity']], how='inner', left_index=True, right_index=True)"
   ]
  },
  {
   "cell_type": "code",
   "execution_count": null,
   "metadata": {},
   "outputs": [],
   "source": [
    "grouped_by = diff_df.groupby('criticality_tag')[['1_diff','2_diff','3_diff','6_diff','7_diff','17_diff']].mean().reset_index()"
   ]
  },
  {
   "cell_type": "code",
   "execution_count": null,
   "metadata": {},
   "outputs": [],
   "source": [
    "fig = px.bar(grouped_by, x='criticality_tag', y=['1_diff','2_diff','3_diff','6_diff','7_diff','17_diff'], labels={'criticality_tag':'Type of change','value':'Mean difference in number of points <br>between previous and new gen.'},title=f'Difference between previous and new generation<br>Voxel size of {voxel_size} m')\n",
    "fig.add_hline(y=0)\n",
    "\n",
    "fig.update_layout(yaxis_range=[-60,25])\n",
    "\n",
    "fig.show()\n",
    "\n",
    "\n",
    "if save_to_html:\n",
    "    plot_name = tile_name + '_' + str(int(voxel_size*100)) + 'class_to_class_diff.html'\n",
    "    fig.write_html(os.path.join(plots_folder,plot_name))"
   ]
  },
  {
   "cell_type": "code",
   "execution_count": null,
   "metadata": {},
   "outputs": [],
   "source": [
    "save_to_html = False\n",
    "save_to_jpeg = False\n",
    "if save_to_html or save_to_jpeg or save_all_to_html or save_all_to_jpeg:\n",
    "    pathlib.Path(plots_folder).mkdir(parents=True, exist_ok=True)\n",
    "    if save_to_html or save_all_to_html:\n",
    "        plot_name = tile_name + '_' + str(int(voxel_size*100)) + 'class_to_class_diff.html'\n",
    "        fig.write_html(os.path.join(plots_folder,plot_name))\n",
    "    if save_to_jpeg or save_all_to_jpeg:\n",
    "        plot_name = tile_name + '_' + str(int(voxel_size*100)) + 'class_to_class_diff.jpeg'\n",
    "        fig.write_image(os.path.join(plots_folder,plot_name),scale = 2)"
   ]
  },
  {
   "cell_type": "code",
   "execution_count": null,
   "metadata": {},
   "outputs": [],
   "source": []
  }
 ],
 "metadata": {
  "kernelspec": {
   "display_name": "qalidar",
   "language": "python",
   "name": "python3"
  },
  "language_info": {
   "codemirror_mode": {
    "name": "ipython",
    "version": 3
   },
   "file_extension": ".py",
   "mimetype": "text/x-python",
   "name": "python",
   "nbconvert_exporter": "python",
   "pygments_lexer": "ipython3",
   "version": "3.10.13"
  }
 },
 "nbformat": 4,
 "nbformat_minor": 2
}
