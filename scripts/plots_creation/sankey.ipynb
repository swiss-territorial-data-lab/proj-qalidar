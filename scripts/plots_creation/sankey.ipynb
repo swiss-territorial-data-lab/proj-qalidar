{
 "cells": [
  {
   "cell_type": "markdown",
   "metadata": {},
   "source": [
    "The necessary libraries for this script are not included in the requirement file. You will need to install additionally plotly and nbformat. You can use the following commands:\n",
    "\n",
    "```bash\n",
    "pip install plotly\n",
    "pip install nbformat\n",
    "```"
   ]
  },
  {
   "cell_type": "markdown",
   "metadata": {},
   "source": [
    "**Warning**: On Windows 10, the export as svg sometimes runs endlessly without producing an output. If that the case, reinstall kaleido with `pip install --upgrade \"kaleido==0.1.*\"`."
   ]
  },
  {
   "cell_type": "code",
   "execution_count": null,
   "metadata": {},
   "outputs": [],
   "source": [
    "import os\n",
    "import pathlib\n",
    "import sys\n",
    "\n",
    "import pandas as pd\n",
    "import plotly.graph_objects as go\n",
    "import numpy as np\n",
    "\n",
    "sys.path.insert(1, '..')\n",
    "import util_las as las"
   ]
  },
  {
   "cell_type": "code",
   "execution_count": null,
   "metadata": {},
   "outputs": [],
   "source": [
    "WORKING_DIR = '../..'\n",
    "os.chdir(WORKING_DIR)"
   ]
  },
  {
   "cell_type": "code",
   "execution_count": null,
   "metadata": {},
   "outputs": [],
   "source": [
    "os.getcwd()"
   ]
  },
  {
   "cell_type": "markdown",
   "metadata": {},
   "source": [
    "## Sankey Diagram visualisation:"
   ]
  },
  {
   "cell_type": "code",
   "execution_count": null,
   "metadata": {},
   "outputs": [],
   "source": [
    "\n",
    "NEW_PATH = 'data/LiDAR_data/2022_Neuchatel/lidar2022_classified/2546500_1212000.laz'\n",
    "CLASSES_CORRESPONDENCE_PATH = 'data/class_equivalences.csv'\n",
    "PLOTS_FOLDER_PATH = 'outputs/plots'\n",
    "save_to_html = True\n",
    "save_to_image = True\n",
    "\n",
    "newer_pc= las.las_to_df_xyzclass(NEW_PATH)"
   ]
  },
  {
   "cell_type": "code",
   "execution_count": null,
   "metadata": {},
   "outputs": [],
   "source": [
    "points_per_class = newer_pc.groupby('classification')['classification'].count().to_frame('nb_points').reset_index()\n",
    "points_per_class.rename(columns={'classification':'id'},inplace=True)\n",
    "points_per_class.head()"
   ]
  },
  {
   "cell_type": "code",
   "execution_count": null,
   "metadata": {},
   "outputs": [],
   "source": [
    "class_equivalences = pd.read_csv(CLASSES_CORRESPONDENCE_PATH, sep=';')"
   ]
  },
  {
   "cell_type": "code",
   "execution_count": null,
   "metadata": {},
   "outputs": [],
   "source": [
    "class_equivalences['index_new']=class_equivalences.index\n",
    "class_equivalences.head(4)"
   ]
  },
  {
   "cell_type": "code",
   "execution_count": null,
   "metadata": {},
   "outputs": [],
   "source": [
    "prev_class_only = pd.DataFrame({'matched_id':[1,2,3,6,7,9,17,-1], 'common_class_name':['Unclassified (1)','Ground (2)','Vegetation (3)','Building (6)','Noise (7)','Water (9)','Bridge (17)','Removed (-1)']})\n",
    "prev_class_only.index+=len(class_equivalences) # So that we have an index which works with sankey\n",
    "prev_class_only['index_prev']=prev_class_only.index\n",
    "prev_class_only.head(3)"
   ]
  },
  {
   "cell_type": "code",
   "execution_count": null,
   "metadata": {},
   "outputs": [],
   "source": [
    "class_equivalences=class_equivalences.merge(prev_class_only, how='left', on='matched_id')\n",
    "class_equivalences.head()"
   ]
  },
  {
   "cell_type": "code",
   "execution_count": null,
   "metadata": {},
   "outputs": [],
   "source": [
    "sankey_df = class_equivalences.merge(points_per_class, how='inner',on='id')\n",
    "sankey_df.head()"
   ]
  },
  {
   "cell_type": "code",
   "execution_count": null,
   "metadata": {},
   "outputs": [],
   "source": [
    "all_diagram_elements = pd.concat([class_equivalences[['id','class_name']],prev_class_only.rename(columns={'matched_id':'id','common_class_name':'class_name'})],ignore_index=True)\n",
    "all_diagram_elements.tail(9)"
   ]
  },
  {
   "cell_type": "code",
   "execution_count": null,
   "metadata": {},
   "outputs": [],
   "source": [
    "fig = go.Figure(data=[go.Sankey(\n",
    "    node = dict(\n",
    "      pad = 15,\n",
    "      thickness = 20,\n",
    "      line = dict(color = \"black\", width = 0.5),\n",
    "      label = all_diagram_elements.class_name,\n",
    "      #color = \"blue\"\n",
    "    ),\n",
    "    link = dict(\n",
    "      source = sankey_df.index_new,\n",
    "      target = sankey_df.index_prev,\n",
    "      value = sankey_df.nb_points\n",
    "  ))])\n",
    "\n",
    "fig.update_layout(\n",
    "    autosize=False,\n",
    "    width=800,\n",
    "    #height=800,\n",
    "    margin=dict(l=20, r=20, t=20, b=20),\n",
    ")\n",
    "\n",
    "fig.show()"
   ]
  },
  {
   "cell_type": "code",
   "execution_count": null,
   "metadata": {},
   "outputs": [],
   "source": [
    "os.path.basename(NEW_PATH).split('.')[0]"
   ]
  },
  {
   "cell_type": "code",
   "execution_count": null,
   "metadata": {},
   "outputs": [],
   "source": [
    "if save_to_html:\n",
    "    pathlib.Path(PLOTS_FOLDER_PATH).mkdir(parents=True, exist_ok=True)\n",
    "    plot_name = os.path.basename(NEW_PATH).split('.')[0] + '_sankey_flow_of_classes.html'\n",
    "    fig.write_html(os.path.join(PLOTS_FOLDER_PATH, plot_name), full_html=False, include_plotlyjs='cdn')"
   ]
  },
  {
   "cell_type": "code",
   "execution_count": null,
   "metadata": {},
   "outputs": [],
   "source": [
    "if save_to_image:\n",
    "    pathlib.Path(PLOTS_FOLDER_PATH).mkdir(parents=True, exist_ok=True)\n",
    "    print('ping')\n",
    "    plot_name = os.path.basename(NEW_PATH).split('.')[0] + '_sankey_flow_of_classes.svg'\n",
    "    print('ping')\n",
    "    fig.write_image(os.path.join(PLOTS_FOLDER_PATH,plot_name))\n",
    "    print('ping')"
   ]
  },
  {
   "cell_type": "code",
   "execution_count": null,
   "metadata": {},
   "outputs": [],
   "source": []
  }
 ],
 "metadata": {
  "kernelspec": {
   "display_name": "qalidar",
   "language": "python",
   "name": "python3"
  },
  "language_info": {
   "codemirror_mode": {
    "name": "ipython",
    "version": 3
   },
   "file_extension": ".py",
   "mimetype": "text/x-python",
   "name": "python",
   "nbconvert_exporter": "python",
   "pygments_lexer": "ipython3",
   "version": "3.10.13"
  }
 },
 "nbformat": 4,
 "nbformat_minor": 2
}
