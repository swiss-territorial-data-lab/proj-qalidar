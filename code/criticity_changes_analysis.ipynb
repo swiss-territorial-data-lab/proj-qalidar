{
 "cells": [
  {
   "cell_type": "code",
   "execution_count": null,
   "metadata": {},
   "outputs": [],
   "source": [
    "import pandas as pd\n",
    "import plotly.express as px\n",
    "import plotly.graph_objects as go\n",
    "import geopandas as gpd\n",
    "from shapely.geometry import Point\n",
    "import numpy as np\n",
    "import pathlib\n",
    "import os"
   ]
  },
  {
   "cell_type": "code",
   "execution_count": null,
   "metadata": {},
   "outputs": [],
   "source": [
    "criticity_changes_folder = '../out_dataframe/criticity_changes_df'\n",
    "\n",
    "csv_file = '2546500_1212000_150_2812-1353.csv'\n",
    "\n",
    "save_to_html = False\n",
    "\n",
    "df = pd.read_csv(os.path.join(criticity_changes_folder, csv_file))"
   ]
  },
  {
   "cell_type": "code",
   "execution_count": null,
   "metadata": {},
   "outputs": [],
   "source": [
    "if save_to_html:\n",
    "    plots_folder = '../plots'\n",
    "    pathlib.Path(plots_folder).mkdir(parents=True, exist_ok=True)"
   ]
  },
  {
   "cell_type": "code",
   "execution_count": null,
   "metadata": {},
   "outputs": [],
   "source": [
    "tile_name, voxel_dimension, _ = csv_file.replace('.csv','').rsplit('_',maxsplit=2) # Define the tile name as the coordinates of the origin\n",
    "voxel_dimension = int(voxel_dimension)/100 # Divide by 100 to get voxel dim in meters"
   ]
  },
  {
   "cell_type": "code",
   "execution_count": null,
   "metadata": {},
   "outputs": [],
   "source": [
    "df.head()"
   ]
  },
  {
   "cell_type": "code",
   "execution_count": null,
   "metadata": {},
   "outputs": [],
   "source": [
    "fig = px.histogram(df, x='change_criticity_label', color='majority_class',title=f'Number of voxels per type of criticity change, voxel dim: {voxel_dimension}')\n",
    "fig.update_layout(xaxis_title=\"Criticity change label\", yaxis_title=\"Number of voxels\")\n",
    "fig.update_layout(\n",
    "    xaxis = dict(\n",
    "        tick0 = 0,\n",
    "        dtick = 1\n",
    "    )\n",
    ")\n",
    "fig.show()\n",
    "\n",
    "if save_to_html:\n",
    "    plot_name = tile_name + '_' + str(int(voxel_dimension*100)) + 'voxels_per_type_of_criticity_label.html'\n",
    "    fig.write_html(os.path.join(plots_folder,plot_name))"
   ]
  },
  {
   "cell_type": "code",
   "execution_count": null,
   "metadata": {},
   "outputs": [],
   "source": [
    "# Creating plot showing the percentage of voxels per criticity labels\n",
    "plot_df0 = df.groupby('change_criticity_label').size().reset_index(name='voxel_count')\n",
    "plot_df0['voxel_percentage']= plot_df0.voxel_count/plot_df0.voxel_count.sum()*100\n",
    "\n",
    "fig = px.bar(plot_df0,x='change_criticity_label',y='voxel_percentage',title=f'Percentage of voxels by type of criticity changes label, <br>for voxel dimension: {voxel_dimension}',\n",
    "             labels={'change_criticity_label': 'Change Criticity', 'voxel_percentage': 'Percentage'},\n",
    "             text=plot_df0['voxel_percentage'].round(3))\n",
    "\n",
    "fig.update_layout(\n",
    "    xaxis = dict(tick0 = 0, dtick = 1),\n",
    "    autosize=False,\n",
    "    width=1000,\n",
    "    height=600,\n",
    "    yaxis_range=[0,100]\n",
    ")\n",
    "\n",
    "fig.show()\n",
    "\n",
    "if save_to_html:\n",
    "    plot_name = tile_name + '_' + str(int(voxel_dimension*100)) + 'points_per_type_of_criticity_label_new_only.html'\n",
    "    fig.write_html(os.path.join(plots_folder,plot_name))"
   ]
  },
  {
   "cell_type": "code",
   "execution_count": null,
   "metadata": {},
   "outputs": [],
   "source": [
    "# Grouping the DataFrame by 'change_criticity' and 'change_criticity_label' and counting the rows\n",
    "grouped_df = df.groupby(['change_criticity', 'change_criticity_label']).size().reset_index(name='count')\n",
    "grouped_df['count'] = grouped_df['count']/grouped_df['count'].sum()*100\n",
    "# Create a bar plot using Plotly Express\n",
    "fig = px.bar(grouped_df, x='change_criticity', y='count', color='change_criticity_label',\n",
    "             title=f'Percentage of voxel by type of criticity changes, for voxel dimension: {voxel_dimension}',\n",
    "             labels={'change_criticity': 'Change Criticity', 'count': 'Percentage'})\n",
    "fig.update_layout(yaxis_range=[0,100]) # Show the whole y axis from 0 to 100 \n",
    "\n",
    "fig.show()\n",
    "\n",
    "if save_to_html:\n",
    "    plot_name = tile_name + '_' + str(int(voxel_dimension*100)) + 'voxels_per_criticity_level.html'\n",
    "    fig.write_html(os.path.join(plots_folder,plot_name))"
   ]
  },
  {
   "cell_type": "markdown",
   "metadata": {},
   "source": [
    "Evaluating under which category of voxels the points fall"
   ]
  },
  {
   "cell_type": "code",
   "execution_count": null,
   "metadata": {},
   "outputs": [],
   "source": [
    "df['total_points_prev'] = df.iloc[:, df.columns.str.contains('_prev')].sum(axis=1)\n",
    "df['total_points_new'] = df.iloc[:, df.columns.str.contains('_new')].sum(axis=1)"
   ]
  },
  {
   "cell_type": "code",
   "execution_count": null,
   "metadata": {},
   "outputs": [],
   "source": [
    "plot_df1 = df.groupby('change_criticity_label')[['total_points_prev','total_points_new']].sum().reset_index()\n",
    "plot_df1['total_points_prev'] = plot_df1['total_points_prev']/plot_df1['total_points_prev'].sum()*100\n",
    "plot_df1['total_points_new'] = plot_df1['total_points_new']/plot_df1['total_points_new'].sum()*100\n",
    "\n",
    "fig = px.bar(plot_df1,x='change_criticity_label',y=['total_points_new','total_points_prev'],title=f'Percentage of point by type of criticity changes label, <br>for voxel dimension: {voxel_dimension}',\n",
    "             labels={'change_criticity_label': 'Change Criticity', 'value': 'Percentage'},barmode='group')\n",
    "\n",
    "fig.update_layout(\n",
    "    xaxis = dict(tick0 = 0, dtick = 1),\n",
    "    autosize=False,\n",
    "    width=1000,\n",
    "    height=600,\n",
    "    yaxis_range=[0,100]\n",
    ")\n",
    "\n",
    "fig.show()\n",
    "\n",
    "if save_to_html:\n",
    "    plot_name = tile_name + '_' + str(int(voxel_dimension*100)) + 'points_per_type_of_criticity_label_old_and_new.html'\n",
    "    fig.write_html(os.path.join(plots_folder,plot_name))"
   ]
  },
  {
   "cell_type": "code",
   "execution_count": null,
   "metadata": {},
   "outputs": [],
   "source": [
    "plot_df1 = df.groupby('change_criticity_label')[['total_points_prev','total_points_new']].sum().reset_index()\n",
    "plot_df1['total_points_prev'] = plot_df1['total_points_prev']/plot_df1['total_points_prev'].sum()*100\n",
    "plot_df1['total_points_new'] = plot_df1['total_points_new']/plot_df1['total_points_new'].sum()*100\n",
    "\n",
    "fig = px.bar(plot_df1,x='change_criticity_label',y='total_points_new',title=f'Percentage of point by type of criticity changes label, <br>for voxel dimension: {voxel_dimension}',\n",
    "             labels={'change_criticity_label': 'Change Criticity', 'total_points_new': 'Percentage'},\n",
    "             text=plot_df1['total_points_new'].round(3))\n",
    "\n",
    "fig.update_layout(\n",
    "    xaxis = dict(tick0 = 0, dtick = 1),\n",
    "    autosize=False,\n",
    "    width=1000,\n",
    "    height=600,\n",
    "    yaxis_range=[0,100]\n",
    ")\n",
    "\n",
    "fig.show()\n",
    "\n",
    "if save_to_html:\n",
    "    plot_name = tile_name + '_' + str(int(voxel_dimension*100)) + 'points_per_type_of_criticity_label_new_only.html'\n",
    "    fig.write_html(os.path.join(plots_folder,plot_name))"
   ]
  },
  {
   "cell_type": "code",
   "execution_count": null,
   "metadata": {},
   "outputs": [],
   "source": [
    "plot_df1=df.groupby('change_criticity')['total_points_new'].sum().to_frame().reset_index()\n",
    "plot_df1['total_points_new']=plot_df1['total_points_new']/plot_df1['total_points_new'].sum()*100\n",
    "\n",
    "fig = px.bar(plot_df1,x='change_criticity',y='total_points_new',title=f'Percentage of point by type of criticity changes,<br>for voxel dimension: {voxel_dimension}',\n",
    "             labels={'change_criticity': 'Change Criticity', 'total_points_new': 'Percentage'})\n",
    "\n",
    "fig.update_layout(\n",
    "    xaxis = dict(tick0 = 0, dtick = 1),\n",
    "    autosize=False,\n",
    "    width=600,\n",
    "    height=600,\n",
    "    yaxis_range=[0,100]\n",
    ")\n",
    "\n",
    "fig.show()\n",
    "\n",
    "if save_to_html:\n",
    "    plot_name = tile_name + '_' + str(int(voxel_dimension*100)) + 'points_per_type_of_criticity.html'\n",
    "    fig.write_html(os.path.join(plots_folder,plot_name))"
   ]
  },
  {
   "cell_type": "markdown",
   "metadata": {},
   "source": [
    "### Compare class to class\n",
    "Here we try to compare the mean difference of point between the previous and new generation for each class. For each voxel, we must only consider the class which actually appear in on the two generation, so as to not generate lots of difference = 0. "
   ]
  },
  {
   "cell_type": "code",
   "execution_count": null,
   "metadata": {},
   "outputs": [],
   "source": [
    "# Normalising factor = [total previous number of points]/[total new number of points]\n",
    "normalising_factor = df.iloc[:, df.columns.str.endswith('_prev')].to_numpy().sum()/df.iloc[:, df.columns.str.endswith('_new')].to_numpy().sum()\n",
    "# Normalise the new voxels\n",
    "df.iloc[:, df.columns.str.endswith('_new')] = df.iloc[:, df.columns.str.endswith('_new')]*normalising_factor"
   ]
  },
  {
   "cell_type": "code",
   "execution_count": null,
   "metadata": {
    "vscode": {
     "languageId": "ruby"
    }
   },
   "outputs": [],
   "source": [
    "# Create boolean mask where cell is True if some class is present in either the new or previous voxel,\n",
    "# and which is false if no presence of the class in either generation\n",
    "bool_mask = df.iloc[:,df.columns.str.endswith('new')].values.astype(bool) | df.iloc[:,df.columns.str.endswith('prev')].values.astype(bool)"
   ]
  },
  {
   "cell_type": "code",
   "execution_count": null,
   "metadata": {
    "vscode": {
     "languageId": "ruby"
    }
   },
   "outputs": [],
   "source": [
    "bool_mask"
   ]
  },
  {
   "cell_type": "code",
   "execution_count": null,
   "metadata": {},
   "outputs": [],
   "source": [
    "# Find for each class in each voxel the difference in number of point between new and previous generation\n",
    "diff_values = (df.iloc[:,df.columns.str.endswith('new')].values - df.iloc[:,df.columns.str.endswith('prev')].values)\n",
    "diff_values[:3]"
   ]
  },
  {
   "cell_type": "code",
   "execution_count": null,
   "metadata": {},
   "outputs": [],
   "source": [
    "# For class which were not present in either the new or previous gen., replace by nan so as to not influence the mean calculation\n",
    "diff_values[bool_mask==False] = np.NaN\n",
    "print(diff_values[:3])"
   ]
  },
  {
   "cell_type": "code",
   "execution_count": null,
   "metadata": {},
   "outputs": [],
   "source": [
    "diff_df = pd.DataFrame(diff_values, columns = df.columns[df.columns.str.endswith('_new')].str.replace('new', 'diff'))\n",
    "diff_df = diff_df.merge(df[['X_grid','Y_grid','Z_grid','change_criticity','cosine_similarity','second_cosine_similarity']],how='inner',left_index=True,right_index=True)"
   ]
  },
  {
   "cell_type": "code",
   "execution_count": null,
   "metadata": {},
   "outputs": [],
   "source": [
    "grouped_by = diff_df.groupby('change_criticity')[['1_diff','2_diff','3_diff','6_diff','7_diff','17_diff']].mean().reset_index()"
   ]
  },
  {
   "cell_type": "code",
   "execution_count": null,
   "metadata": {},
   "outputs": [],
   "source": [
    "fig = px.bar(grouped_by, x='change_criticity', y=['1_diff','2_diff','3_diff','6_diff','7_diff','17_diff'], labels={'change_criticity':'Type of change','value':'Mean difference in number of points <br>between previous and new gen.'},title=f'Difference between previous and new generation<br>Voxel size of {voxel_dimension} m')\n",
    "fig.add_hline(y=0)\n",
    "\n",
    "fig.update_layout(yaxis_range=[-60,25])\n",
    "\n",
    "fig.show()\n",
    "\n",
    "\n",
    "if save_to_html:\n",
    "    plot_name = tile_name + '_' + str(int(voxel_dimension*100)) + 'class_to_class_diff.html''\n",
    "    fig.write_html(os.path.join(plots_folder,plot_name))"
   ]
  },
  {
   "cell_type": "markdown",
   "metadata": {},
   "source": [
    "### Check under which category of voxel the points of interest fall :\n",
    "This was done as an attempt to analyse quickly the attribution in criticity of certain points of interest. Not really used anymore, left for legacy."
   ]
  },
  {
   "cell_type": "code",
   "execution_count": null,
   "metadata": {},
   "outputs": [],
   "source": [
    "gdf=gpd.read_file('/home/nmunger/Desktop/points_of_interest.geojson')"
   ]
  },
  {
   "cell_type": "code",
   "execution_count": null,
   "metadata": {},
   "outputs": [],
   "source": [
    "def matching_voxel_id(x, y, z, df):\n",
    "    index_array = df[(abs(df.X_grid - x)<vox_width/2) & (abs(df.Y_grid - y)<vox_width/2) & (abs(df.Z_grid - z)<vox_width/2)  ].index.to_numpy()\n",
    "    \n",
    "    if len(index_array) > 1:\n",
    "        raise ValueError\n",
    "    \n",
    "    else:\n",
    "        return index_array[0]"
   ]
  },
  {
   "cell_type": "code",
   "execution_count": null,
   "metadata": {},
   "outputs": [],
   "source": [
    "gdf['matching_voxel']=gdf.geometry.get_coordinates(include_z=True).apply(lambda point: matching_voxel_id(point.x, point.y, point.z, df), axis=1)"
   ]
  },
  {
   "cell_type": "code",
   "execution_count": null,
   "metadata": {},
   "outputs": [],
   "source": [
    "print('Vox size:', vox_width)\n",
    "gdf.merge(df, left_on='matching_voxel',right_index=True, how='left').iloc[:,[0,1,18,19]]"
   ]
  },
  {
   "cell_type": "code",
   "execution_count": null,
   "metadata": {},
   "outputs": [],
   "source": [
    "gdf.merge(df, left_on='matching_voxel',right_index=True, how='left').iloc[:,6:18]"
   ]
  }
 ],
 "metadata": {
  "kernelspec": {
   "display_name": "qalidar",
   "language": "python",
   "name": "python3"
  },
  "language_info": {
   "codemirror_mode": {
    "name": "ipython",
    "version": 3
   },
   "file_extension": ".py",
   "mimetype": "text/x-python",
   "name": "python",
   "nbconvert_exporter": "python",
   "pygments_lexer": "ipython3",
   "version": "3.10.12"
  }
 },
 "nbformat": 4,
 "nbformat_minor": 2
}
