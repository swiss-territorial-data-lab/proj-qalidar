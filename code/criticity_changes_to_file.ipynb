{
 "cells": [
  {
   "cell_type": "code",
   "execution_count": 1,
   "metadata": {},
   "outputs": [
    {
     "name": "stdout",
     "output_type": "stream",
     "text": [
      "Jupyter environment detected. Enabling Open3D WebVisualizer.\n",
      "[Open3D INFO] WebRTC GUI backend enabled.\n",
      "[Open3D INFO] WebRTCWindowSystem: HTTP handshake server disabled.\n"
     ]
    }
   ],
   "source": [
    "import pandas as pd\n",
    "import os\n",
    "import laspy\n",
    "import numpy as np\n",
    "import open3d as o3d\n",
    "import util_las as las\n",
    "import pathlib\n",
    "import geopandas as gpd\n",
    "from shapely.geometry import Point"
   ]
  },
  {
   "cell_type": "markdown",
   "metadata": {},
   "source": [
    "This file is intenteded to produce the change detections in the desired file format. Run the first cells to load the proper .csv file and then the cells for the format you want to save the detections to (.las, subset of points to .las, shapefile or .ply mesh)"
   ]
  },
  {
   "cell_type": "code",
   "execution_count": 2,
   "metadata": {},
   "outputs": [],
   "source": [
    "WORKING_DIR = '/mnt/data-01/nmunger/proj-qalidar/data' \n",
    "\n",
    "# Output directory\n",
    "folder_dir = 'out_dataframe/criticity_changes_df/'\n",
    "csv_file_name = '2547000_1211500_150_2301-1541.csv'\n",
    "out_dir = 'out_vis/'\n",
    "\n",
    "tile_decript_name = csv_file_name.split('.')[0]\n",
    "vox_dimension = float(tile_decript_name.rsplit('_', maxsplit=2)[1])/100\n",
    "\n",
    "os.chdir(WORKING_DIR)"
   ]
  },
  {
   "cell_type": "code",
   "execution_count": 3,
   "metadata": {},
   "outputs": [],
   "source": [
    "subfolder_path = os.path.join(out_dir,tile_decript_name)"
   ]
  },
  {
   "cell_type": "code",
   "execution_count": 4,
   "metadata": {},
   "outputs": [],
   "source": [
    "# Create the path for the folder and subfolder to store the outgoing file in case it doesn't yet exist\n",
    "pathlib.Path(subfolder_path).mkdir(parents=True, exist_ok=True)"
   ]
  },
  {
   "cell_type": "markdown",
   "metadata": {},
   "source": [
    "### Import .csv file"
   ]
  },
  {
   "cell_type": "code",
   "execution_count": 5,
   "metadata": {},
   "outputs": [],
   "source": [
    "df = pd.read_csv(os.path.join(folder_dir, csv_file_name))"
   ]
  },
  {
   "cell_type": "code",
   "execution_count": 6,
   "metadata": {},
   "outputs": [
    {
     "data": {
      "text/html": [
       "<div>\n",
       "<style scoped>\n",
       "    .dataframe tbody tr th:only-of-type {\n",
       "        vertical-align: middle;\n",
       "    }\n",
       "\n",
       "    .dataframe tbody tr th {\n",
       "        vertical-align: top;\n",
       "    }\n",
       "\n",
       "    .dataframe thead th {\n",
       "        text-align: right;\n",
       "    }\n",
       "</style>\n",
       "<table border=\"1\" class=\"dataframe\">\n",
       "  <thead>\n",
       "    <tr style=\"text-align: right;\">\n",
       "      <th></th>\n",
       "      <th>X_grid</th>\n",
       "      <th>Y_grid</th>\n",
       "      <th>Z_grid</th>\n",
       "      <th>1_prev</th>\n",
       "      <th>2_prev</th>\n",
       "      <th>3_prev</th>\n",
       "      <th>6_prev</th>\n",
       "      <th>7_prev</th>\n",
       "      <th>17_prev</th>\n",
       "      <th>1_new</th>\n",
       "      <th>...</th>\n",
       "      <th>6_new</th>\n",
       "      <th>7_new</th>\n",
       "      <th>17_new</th>\n",
       "      <th>vox_id</th>\n",
       "      <th>change_criticity</th>\n",
       "      <th>cosine_similarity</th>\n",
       "      <th>second_cosine_similarity</th>\n",
       "      <th>third_cosine_similarity</th>\n",
       "      <th>majority_class</th>\n",
       "      <th>change_criticity_label</th>\n",
       "    </tr>\n",
       "  </thead>\n",
       "  <tbody>\n",
       "    <tr>\n",
       "      <th>0</th>\n",
       "      <td>2547000.75</td>\n",
       "      <td>1211500.75</td>\n",
       "      <td>933.25</td>\n",
       "      <td>0.0</td>\n",
       "      <td>0.0</td>\n",
       "      <td>0.0</td>\n",
       "      <td>15.0</td>\n",
       "      <td>0.0</td>\n",
       "      <td>0.0</td>\n",
       "      <td>0.0</td>\n",
       "      <td>...</td>\n",
       "      <td>214.0</td>\n",
       "      <td>0.0</td>\n",
       "      <td>0.0</td>\n",
       "      <td>0</td>\n",
       "      <td>non_prob</td>\n",
       "      <td>1.000000</td>\n",
       "      <td>NaN</td>\n",
       "      <td>NaN</td>\n",
       "      <td>6_new</td>\n",
       "      <td>1.0</td>\n",
       "    </tr>\n",
       "    <tr>\n",
       "      <th>1</th>\n",
       "      <td>2547000.75</td>\n",
       "      <td>1211502.25</td>\n",
       "      <td>925.75</td>\n",
       "      <td>0.0</td>\n",
       "      <td>2.0</td>\n",
       "      <td>0.0</td>\n",
       "      <td>0.0</td>\n",
       "      <td>0.0</td>\n",
       "      <td>0.0</td>\n",
       "      <td>0.0</td>\n",
       "      <td>...</td>\n",
       "      <td>4.0</td>\n",
       "      <td>0.0</td>\n",
       "      <td>0.0</td>\n",
       "      <td>1</td>\n",
       "      <td>grey_zone</td>\n",
       "      <td>0.986394</td>\n",
       "      <td>1.0</td>\n",
       "      <td>0.986394</td>\n",
       "      <td>2_new</td>\n",
       "      <td>8.0</td>\n",
       "    </tr>\n",
       "    <tr>\n",
       "      <th>2</th>\n",
       "      <td>2547000.75</td>\n",
       "      <td>1211502.25</td>\n",
       "      <td>928.75</td>\n",
       "      <td>0.0</td>\n",
       "      <td>0.0</td>\n",
       "      <td>0.0</td>\n",
       "      <td>1.0</td>\n",
       "      <td>0.0</td>\n",
       "      <td>0.0</td>\n",
       "      <td>0.0</td>\n",
       "      <td>...</td>\n",
       "      <td>17.0</td>\n",
       "      <td>0.0</td>\n",
       "      <td>0.0</td>\n",
       "      <td>2</td>\n",
       "      <td>non_prob</td>\n",
       "      <td>1.000000</td>\n",
       "      <td>NaN</td>\n",
       "      <td>NaN</td>\n",
       "      <td>6_new</td>\n",
       "      <td>1.0</td>\n",
       "    </tr>\n",
       "    <tr>\n",
       "      <th>3</th>\n",
       "      <td>2547000.75</td>\n",
       "      <td>1211502.25</td>\n",
       "      <td>930.25</td>\n",
       "      <td>0.0</td>\n",
       "      <td>0.0</td>\n",
       "      <td>0.0</td>\n",
       "      <td>1.0</td>\n",
       "      <td>0.0</td>\n",
       "      <td>0.0</td>\n",
       "      <td>0.0</td>\n",
       "      <td>...</td>\n",
       "      <td>20.0</td>\n",
       "      <td>0.0</td>\n",
       "      <td>0.0</td>\n",
       "      <td>3</td>\n",
       "      <td>non_prob</td>\n",
       "      <td>1.000000</td>\n",
       "      <td>NaN</td>\n",
       "      <td>NaN</td>\n",
       "      <td>6_new</td>\n",
       "      <td>1.0</td>\n",
       "    </tr>\n",
       "    <tr>\n",
       "      <th>4</th>\n",
       "      <td>2547000.75</td>\n",
       "      <td>1211502.25</td>\n",
       "      <td>931.75</td>\n",
       "      <td>0.0</td>\n",
       "      <td>0.0</td>\n",
       "      <td>0.0</td>\n",
       "      <td>3.0</td>\n",
       "      <td>0.0</td>\n",
       "      <td>0.0</td>\n",
       "      <td>0.0</td>\n",
       "      <td>...</td>\n",
       "      <td>20.0</td>\n",
       "      <td>0.0</td>\n",
       "      <td>0.0</td>\n",
       "      <td>4</td>\n",
       "      <td>non_prob</td>\n",
       "      <td>1.000000</td>\n",
       "      <td>NaN</td>\n",
       "      <td>NaN</td>\n",
       "      <td>6_new</td>\n",
       "      <td>1.0</td>\n",
       "    </tr>\n",
       "  </tbody>\n",
       "</table>\n",
       "<p>5 rows × 22 columns</p>\n",
       "</div>"
      ],
      "text/plain": [
       "       X_grid      Y_grid  Z_grid  1_prev  2_prev  3_prev  6_prev  7_prev  \\\n",
       "0  2547000.75  1211500.75  933.25     0.0     0.0     0.0    15.0     0.0   \n",
       "1  2547000.75  1211502.25  925.75     0.0     2.0     0.0     0.0     0.0   \n",
       "2  2547000.75  1211502.25  928.75     0.0     0.0     0.0     1.0     0.0   \n",
       "3  2547000.75  1211502.25  930.25     0.0     0.0     0.0     1.0     0.0   \n",
       "4  2547000.75  1211502.25  931.75     0.0     0.0     0.0     3.0     0.0   \n",
       "\n",
       "   17_prev  1_new  ...  6_new  7_new  17_new  vox_id  change_criticity  \\\n",
       "0      0.0    0.0  ...  214.0    0.0     0.0       0          non_prob   \n",
       "1      0.0    0.0  ...    4.0    0.0     0.0       1         grey_zone   \n",
       "2      0.0    0.0  ...   17.0    0.0     0.0       2          non_prob   \n",
       "3      0.0    0.0  ...   20.0    0.0     0.0       3          non_prob   \n",
       "4      0.0    0.0  ...   20.0    0.0     0.0       4          non_prob   \n",
       "\n",
       "   cosine_similarity second_cosine_similarity  third_cosine_similarity  \\\n",
       "0           1.000000                      NaN                      NaN   \n",
       "1           0.986394                      1.0                 0.986394   \n",
       "2           1.000000                      NaN                      NaN   \n",
       "3           1.000000                      NaN                      NaN   \n",
       "4           1.000000                      NaN                      NaN   \n",
       "\n",
       "   majority_class  change_criticity_label  \n",
       "0           6_new                     1.0  \n",
       "1           2_new                     8.0  \n",
       "2           6_new                     1.0  \n",
       "3           6_new                     1.0  \n",
       "4           6_new                     1.0  \n",
       "\n",
       "[5 rows x 22 columns]"
      ]
     },
     "execution_count": 6,
     "metadata": {},
     "output_type": "execute_result"
    }
   ],
   "source": [
    "df.head()"
   ]
  },
  {
   "cell_type": "markdown",
   "metadata": {},
   "source": [
    "### Create a subset of the dataframe"
   ]
  },
  {
   "cell_type": "code",
   "execution_count": 7,
   "metadata": {},
   "outputs": [
    {
     "data": {
      "text/html": [
       "<div>\n",
       "<style scoped>\n",
       "    .dataframe tbody tr th:only-of-type {\n",
       "        vertical-align: middle;\n",
       "    }\n",
       "\n",
       "    .dataframe tbody tr th {\n",
       "        vertical-align: top;\n",
       "    }\n",
       "\n",
       "    .dataframe thead th {\n",
       "        text-align: right;\n",
       "    }\n",
       "</style>\n",
       "<table border=\"1\" class=\"dataframe\">\n",
       "  <thead>\n",
       "    <tr style=\"text-align: right;\">\n",
       "      <th></th>\n",
       "      <th>X_grid</th>\n",
       "      <th>Y_grid</th>\n",
       "      <th>Z_grid</th>\n",
       "      <th>1_prev</th>\n",
       "      <th>2_prev</th>\n",
       "      <th>3_prev</th>\n",
       "      <th>6_prev</th>\n",
       "      <th>7_prev</th>\n",
       "      <th>17_prev</th>\n",
       "      <th>1_new</th>\n",
       "      <th>...</th>\n",
       "      <th>6_new</th>\n",
       "      <th>7_new</th>\n",
       "      <th>17_new</th>\n",
       "      <th>vox_id</th>\n",
       "      <th>change_criticity</th>\n",
       "      <th>cosine_similarity</th>\n",
       "      <th>second_cosine_similarity</th>\n",
       "      <th>third_cosine_similarity</th>\n",
       "      <th>majority_class</th>\n",
       "      <th>change_criticity_label</th>\n",
       "    </tr>\n",
       "  </thead>\n",
       "  <tbody>\n",
       "    <tr>\n",
       "      <th>0</th>\n",
       "      <td>2547278.25</td>\n",
       "      <td>1211829.25</td>\n",
       "      <td>924.25</td>\n",
       "      <td>0.0</td>\n",
       "      <td>0.0</td>\n",
       "      <td>9.0</td>\n",
       "      <td>0.0</td>\n",
       "      <td>0.0</td>\n",
       "      <td>0.0</td>\n",
       "      <td>0.0</td>\n",
       "      <td>...</td>\n",
       "      <td>0.0</td>\n",
       "      <td>0.0</td>\n",
       "      <td>0.0</td>\n",
       "      <td>145361</td>\n",
       "      <td>non_prob</td>\n",
       "      <td>1.000000</td>\n",
       "      <td>NaN</td>\n",
       "      <td>NaN</td>\n",
       "      <td>3_prev</td>\n",
       "      <td>1.0</td>\n",
       "    </tr>\n",
       "    <tr>\n",
       "      <th>1</th>\n",
       "      <td>2547050.25</td>\n",
       "      <td>1211577.25</td>\n",
       "      <td>921.25</td>\n",
       "      <td>0.0</td>\n",
       "      <td>11.0</td>\n",
       "      <td>0.0</td>\n",
       "      <td>0.0</td>\n",
       "      <td>0.0</td>\n",
       "      <td>0.0</td>\n",
       "      <td>0.0</td>\n",
       "      <td>...</td>\n",
       "      <td>0.0</td>\n",
       "      <td>0.0</td>\n",
       "      <td>0.0</td>\n",
       "      <td>25827</td>\n",
       "      <td>non_prob</td>\n",
       "      <td>1.000000</td>\n",
       "      <td>NaN</td>\n",
       "      <td>NaN</td>\n",
       "      <td>2_new</td>\n",
       "      <td>1.0</td>\n",
       "    </tr>\n",
       "    <tr>\n",
       "      <th>2</th>\n",
       "      <td>2547264.75</td>\n",
       "      <td>1211994.25</td>\n",
       "      <td>943.75</td>\n",
       "      <td>0.0</td>\n",
       "      <td>11.0</td>\n",
       "      <td>0.0</td>\n",
       "      <td>0.0</td>\n",
       "      <td>0.0</td>\n",
       "      <td>0.0</td>\n",
       "      <td>0.0</td>\n",
       "      <td>...</td>\n",
       "      <td>0.0</td>\n",
       "      <td>0.0</td>\n",
       "      <td>0.0</td>\n",
       "      <td>138563</td>\n",
       "      <td>non_prob</td>\n",
       "      <td>1.000000</td>\n",
       "      <td>NaN</td>\n",
       "      <td>NaN</td>\n",
       "      <td>2_new</td>\n",
       "      <td>1.0</td>\n",
       "    </tr>\n",
       "    <tr>\n",
       "      <th>3</th>\n",
       "      <td>2547486.75</td>\n",
       "      <td>1211718.25</td>\n",
       "      <td>960.25</td>\n",
       "      <td>0.0</td>\n",
       "      <td>0.0</td>\n",
       "      <td>1.0</td>\n",
       "      <td>0.0</td>\n",
       "      <td>0.0</td>\n",
       "      <td>0.0</td>\n",
       "      <td>0.0</td>\n",
       "      <td>...</td>\n",
       "      <td>0.0</td>\n",
       "      <td>0.0</td>\n",
       "      <td>0.0</td>\n",
       "      <td>288563</td>\n",
       "      <td>non_prob</td>\n",
       "      <td>1.000000</td>\n",
       "      <td>NaN</td>\n",
       "      <td>NaN</td>\n",
       "      <td>3_new</td>\n",
       "      <td>1.0</td>\n",
       "    </tr>\n",
       "    <tr>\n",
       "      <th>4</th>\n",
       "      <td>2547249.75</td>\n",
       "      <td>1211646.25</td>\n",
       "      <td>921.25</td>\n",
       "      <td>0.0</td>\n",
       "      <td>18.0</td>\n",
       "      <td>0.0</td>\n",
       "      <td>0.0</td>\n",
       "      <td>0.0</td>\n",
       "      <td>0.0</td>\n",
       "      <td>0.0</td>\n",
       "      <td>...</td>\n",
       "      <td>0.0</td>\n",
       "      <td>0.0</td>\n",
       "      <td>0.0</td>\n",
       "      <td>130140</td>\n",
       "      <td>non_prob</td>\n",
       "      <td>1.000000</td>\n",
       "      <td>NaN</td>\n",
       "      <td>NaN</td>\n",
       "      <td>2_new</td>\n",
       "      <td>1.0</td>\n",
       "    </tr>\n",
       "    <tr>\n",
       "      <th>5</th>\n",
       "      <td>2547440.25</td>\n",
       "      <td>1211860.75</td>\n",
       "      <td>925.75</td>\n",
       "      <td>0.0</td>\n",
       "      <td>0.0</td>\n",
       "      <td>1.0</td>\n",
       "      <td>0.0</td>\n",
       "      <td>0.0</td>\n",
       "      <td>0.0</td>\n",
       "      <td>0.0</td>\n",
       "      <td>...</td>\n",
       "      <td>0.0</td>\n",
       "      <td>0.0</td>\n",
       "      <td>0.0</td>\n",
       "      <td>239587</td>\n",
       "      <td>non_prob</td>\n",
       "      <td>1.000000</td>\n",
       "      <td>NaN</td>\n",
       "      <td>NaN</td>\n",
       "      <td>3_new</td>\n",
       "      <td>1.0</td>\n",
       "    </tr>\n",
       "    <tr>\n",
       "      <th>6</th>\n",
       "      <td>2547248.25</td>\n",
       "      <td>1211560.75</td>\n",
       "      <td>931.75</td>\n",
       "      <td>0.0</td>\n",
       "      <td>0.0</td>\n",
       "      <td>0.0</td>\n",
       "      <td>2.0</td>\n",
       "      <td>0.0</td>\n",
       "      <td>0.0</td>\n",
       "      <td>0.0</td>\n",
       "      <td>...</td>\n",
       "      <td>1.0</td>\n",
       "      <td>0.0</td>\n",
       "      <td>0.0</td>\n",
       "      <td>129202</td>\n",
       "      <td>non_prob</td>\n",
       "      <td>1.000000</td>\n",
       "      <td>NaN</td>\n",
       "      <td>NaN</td>\n",
       "      <td>6_prev</td>\n",
       "      <td>1.0</td>\n",
       "    </tr>\n",
       "    <tr>\n",
       "      <th>7</th>\n",
       "      <td>2547492.75</td>\n",
       "      <td>1211767.75</td>\n",
       "      <td>958.75</td>\n",
       "      <td>0.0</td>\n",
       "      <td>0.0</td>\n",
       "      <td>7.0</td>\n",
       "      <td>0.0</td>\n",
       "      <td>0.0</td>\n",
       "      <td>0.0</td>\n",
       "      <td>0.0</td>\n",
       "      <td>...</td>\n",
       "      <td>0.0</td>\n",
       "      <td>0.0</td>\n",
       "      <td>0.0</td>\n",
       "      <td>295421</td>\n",
       "      <td>non_prob</td>\n",
       "      <td>1.000000</td>\n",
       "      <td>NaN</td>\n",
       "      <td>NaN</td>\n",
       "      <td>3_new</td>\n",
       "      <td>1.0</td>\n",
       "    </tr>\n",
       "    <tr>\n",
       "      <th>8</th>\n",
       "      <td>2547462.75</td>\n",
       "      <td>1211755.75</td>\n",
       "      <td>939.25</td>\n",
       "      <td>0.0</td>\n",
       "      <td>12.0</td>\n",
       "      <td>3.0</td>\n",
       "      <td>0.0</td>\n",
       "      <td>0.0</td>\n",
       "      <td>0.0</td>\n",
       "      <td>0.0</td>\n",
       "      <td>...</td>\n",
       "      <td>0.0</td>\n",
       "      <td>0.0</td>\n",
       "      <td>0.0</td>\n",
       "      <td>263545</td>\n",
       "      <td>non_prob</td>\n",
       "      <td>0.932966</td>\n",
       "      <td>NaN</td>\n",
       "      <td>NaN</td>\n",
       "      <td>2_new</td>\n",
       "      <td>2.0</td>\n",
       "    </tr>\n",
       "    <tr>\n",
       "      <th>9</th>\n",
       "      <td>2547462.75</td>\n",
       "      <td>1211713.75</td>\n",
       "      <td>954.25</td>\n",
       "      <td>0.0</td>\n",
       "      <td>19.0</td>\n",
       "      <td>2.0</td>\n",
       "      <td>0.0</td>\n",
       "      <td>0.0</td>\n",
       "      <td>0.0</td>\n",
       "      <td>0.0</td>\n",
       "      <td>...</td>\n",
       "      <td>0.0</td>\n",
       "      <td>0.0</td>\n",
       "      <td>0.0</td>\n",
       "      <td>263327</td>\n",
       "      <td>non_prob</td>\n",
       "      <td>0.998859</td>\n",
       "      <td>NaN</td>\n",
       "      <td>NaN</td>\n",
       "      <td>2_new</td>\n",
       "      <td>2.0</td>\n",
       "    </tr>\n",
       "  </tbody>\n",
       "</table>\n",
       "<p>10 rows × 22 columns</p>\n",
       "</div>"
      ],
      "text/plain": [
       "       X_grid      Y_grid  Z_grid  1_prev  2_prev  3_prev  6_prev  7_prev  \\\n",
       "0  2547278.25  1211829.25  924.25     0.0     0.0     9.0     0.0     0.0   \n",
       "1  2547050.25  1211577.25  921.25     0.0    11.0     0.0     0.0     0.0   \n",
       "2  2547264.75  1211994.25  943.75     0.0    11.0     0.0     0.0     0.0   \n",
       "3  2547486.75  1211718.25  960.25     0.0     0.0     1.0     0.0     0.0   \n",
       "4  2547249.75  1211646.25  921.25     0.0    18.0     0.0     0.0     0.0   \n",
       "5  2547440.25  1211860.75  925.75     0.0     0.0     1.0     0.0     0.0   \n",
       "6  2547248.25  1211560.75  931.75     0.0     0.0     0.0     2.0     0.0   \n",
       "7  2547492.75  1211767.75  958.75     0.0     0.0     7.0     0.0     0.0   \n",
       "8  2547462.75  1211755.75  939.25     0.0    12.0     3.0     0.0     0.0   \n",
       "9  2547462.75  1211713.75  954.25     0.0    19.0     2.0     0.0     0.0   \n",
       "\n",
       "   17_prev  1_new  ...  6_new  7_new  17_new  vox_id  change_criticity  \\\n",
       "0      0.0    0.0  ...    0.0    0.0     0.0  145361          non_prob   \n",
       "1      0.0    0.0  ...    0.0    0.0     0.0   25827          non_prob   \n",
       "2      0.0    0.0  ...    0.0    0.0     0.0  138563          non_prob   \n",
       "3      0.0    0.0  ...    0.0    0.0     0.0  288563          non_prob   \n",
       "4      0.0    0.0  ...    0.0    0.0     0.0  130140          non_prob   \n",
       "5      0.0    0.0  ...    0.0    0.0     0.0  239587          non_prob   \n",
       "6      0.0    0.0  ...    1.0    0.0     0.0  129202          non_prob   \n",
       "7      0.0    0.0  ...    0.0    0.0     0.0  295421          non_prob   \n",
       "8      0.0    0.0  ...    0.0    0.0     0.0  263545          non_prob   \n",
       "9      0.0    0.0  ...    0.0    0.0     0.0  263327          non_prob   \n",
       "\n",
       "   cosine_similarity second_cosine_similarity  third_cosine_similarity  \\\n",
       "0           1.000000                      NaN                      NaN   \n",
       "1           1.000000                      NaN                      NaN   \n",
       "2           1.000000                      NaN                      NaN   \n",
       "3           1.000000                      NaN                      NaN   \n",
       "4           1.000000                      NaN                      NaN   \n",
       "5           1.000000                      NaN                      NaN   \n",
       "6           1.000000                      NaN                      NaN   \n",
       "7           1.000000                      NaN                      NaN   \n",
       "8           0.932966                      NaN                      NaN   \n",
       "9           0.998859                      NaN                      NaN   \n",
       "\n",
       "   majority_class  change_criticity_label  \n",
       "0          3_prev                     1.0  \n",
       "1           2_new                     1.0  \n",
       "2           2_new                     1.0  \n",
       "3           3_new                     1.0  \n",
       "4           2_new                     1.0  \n",
       "5           3_new                     1.0  \n",
       "6          6_prev                     1.0  \n",
       "7           3_new                     1.0  \n",
       "8           2_new                     2.0  \n",
       "9           2_new                     2.0  \n",
       "\n",
       "[10 rows x 22 columns]"
      ]
     },
     "execution_count": 7,
     "metadata": {},
     "output_type": "execute_result"
    }
   ],
   "source": [
    "subset_df = df.groupby('change_criticity_label').apply(lambda x: x.sample(8, random_state=42).reset_index(drop=True)).reset_index(drop=True)\n",
    "\n",
    "subset_df.head(10)"
   ]
  },
  {
   "cell_type": "markdown",
   "metadata": {},
   "source": [
    "### Save to .las file"
   ]
  },
  {
   "cell_type": "code",
   "execution_count": 8,
   "metadata": {},
   "outputs": [],
   "source": [
    "las_file = las.df_to_las(df)\n",
    "\n",
    "las_file.write(os.path.join(subfolder_path, 'change_detection.las'))"
   ]
  },
  {
   "cell_type": "markdown",
   "metadata": {},
   "source": [
    "### Save subset of the changes detection to .las and to .csv"
   ]
  },
  {
   "cell_type": "code",
   "execution_count": null,
   "metadata": {},
   "outputs": [],
   "source": [
    "las_file = las.df_to_las(subset_df, index_to_point_source_id=True)\n",
    "\n",
    "las_file.write(os.path.join(subfolder_path, 'subset_change_detections.las'))"
   ]
  },
  {
   "cell_type": "code",
   "execution_count": null,
   "metadata": {},
   "outputs": [],
   "source": [
    "subset_df.to_csv(os.path.join(subfolder_path, 'subset_change_detections.csv'))"
   ]
  },
  {
   "cell_type": "markdown",
   "metadata": {},
   "source": [
    "### DBSCAN clustering for isolated voxels removal -> to .las"
   ]
  },
  {
   "cell_type": "code",
   "execution_count": null,
   "metadata": {},
   "outputs": [],
   "source": [
    "problematic_df = df[df.change_criticity=='problematic']"
   ]
  },
  {
   "cell_type": "code",
   "execution_count": null,
   "metadata": {},
   "outputs": [],
   "source": [
    "from sklearn.cluster import DBSCAN\n",
    "\n",
    "X = problematic_df[['X_grid','Y_grid','Z_grid']]\n",
    "clustering = DBSCAN(eps=1.5, min_samples=2).fit(X)\n",
    "isolated_voxel_mask = (clustering.labels_ == -1)"
   ]
  },
  {
   "cell_type": "code",
   "execution_count": null,
   "metadata": {},
   "outputs": [],
   "source": [
    "labels_criticity=df['change_criticity_label'].values.copy()\n",
    "\n",
    "# Change all voxels that are problematic but isolated to label 14\n",
    "labels_criticity[problematic_df.index[isolated_voxel_mask]] = 14\n",
    "df.loc[:, 'filtered_change_criticity_label'] = labels_criticity"
   ]
  },
  {
   "cell_type": "code",
   "execution_count": null,
   "metadata": {},
   "outputs": [],
   "source": [
    "las_file = las.df_to_las(df, user_data_col='filtered_change_criticity_label')\n",
    "\n",
    "las_file.write(os.path.join(subfolder_path, 'change_detection_filtered.las'))"
   ]
  },
  {
   "cell_type": "markdown",
   "metadata": {},
   "source": [
    "### Save subset to geopackage"
   ]
  },
  {
   "cell_type": "code",
   "execution_count": null,
   "metadata": {},
   "outputs": [],
   "source": [
    "geometry = [Point(xyz) for xyz in zip(subset_df.X_grid, subset_df.Y_grid, subset_df.Z_grid)]\n",
    "gdf = gpd.GeoDataFrame(subset_df, crs='EPSG:2056', geometry=geometry)\n",
    "gdf['geometry'] = gdf.geometry #.buffer(vox_dimension/2, cap_style=3) # Uncomment to have the shape representing the dimension of the voxel\n",
    "#Remove unnecessary columns\n",
    "gdf.drop(columns=['X_grid','Y_grid','Z_grid','cosine_similarity','second_cosine_similarity','third_cosine_similarity','majority_class'],inplace=True)\n",
    "gdf = gdf.rename_axis('vox_id').reset_index()\n",
    "gdf['validity']=1\n",
    "gdf['comment']=''"
   ]
  },
  {
   "cell_type": "code",
   "execution_count": null,
   "metadata": {},
   "outputs": [],
   "source": [
    "gdf.head()"
   ]
  },
  {
   "cell_type": "code",
   "execution_count": null,
   "metadata": {},
   "outputs": [],
   "source": [
    "gdf.to_file(os.path.join(subfolder_path,'subset_change_detections.gpkg'), drive='GPKG')"
   ]
  },
  {
   "cell_type": "markdown",
   "metadata": {},
   "source": [
    "### Save to shapefile\n",
    "Not used currently, partially old code, left for legacy"
   ]
  },
  {
   "cell_type": "code",
   "execution_count": null,
   "metadata": {},
   "outputs": [],
   "source": [
    "problematic_and_grey_df = df[df['change_criticity']!='non_prob']"
   ]
  },
  {
   "cell_type": "code",
   "execution_count": null,
   "metadata": {},
   "outputs": [],
   "source": [
    "problematic_and_grey_df.loc[:,'Z_grid'] = problematic_and_grey_df['Z_grid'].astype(str)\n",
    "problematic_and_grey_df.loc[:,'change_criticity_label'] = problematic_and_grey_df['change_criticity_label'].astype(str)"
   ]
  },
  {
   "cell_type": "code",
   "execution_count": null,
   "metadata": {},
   "outputs": [],
   "source": [
    "problematic_and_grey_df.loc[:,'vertical_descript'] = problematic_and_grey_df[['Z_grid', 'change_criticity', 'change_criticity_label']].agg('-'.join, axis=1)\n",
    "problematic_and_grey_df.head()"
   ]
  },
  {
   "cell_type": "code",
   "execution_count": null,
   "metadata": {},
   "outputs": [],
   "source": [
    "problematic_df = problematic_and_grey_df[problematic_and_grey_df['change_criticity']=='problematic']\n",
    "grey_zone_df = problematic_and_grey_df[problematic_and_grey_df['change_criticity']=='grey_zone']"
   ]
  },
  {
   "cell_type": "code",
   "execution_count": null,
   "metadata": {},
   "outputs": [],
   "source": [
    "# Code inspired from https://stackoverflow.com/questions/17841149/pandas-groupby-how-to-get-a-union-of-strings\n",
    "# We want to group all the voxels having the same planar coordinates, and create a string with every vertical descript\n",
    "def f(x):\n",
    "    return pd.Series(dict( vertical_descript = \"{%s}\" % '\\n'.join(x['vertical_descript'])))"
   ]
  },
  {
   "cell_type": "code",
   "execution_count": null,
   "metadata": {},
   "outputs": [],
   "source": [
    "grouped_problematic_df = problematic_df.groupby(['X_grid','Y_grid']).apply(f).reset_index()"
   ]
  },
  {
   "cell_type": "code",
   "execution_count": null,
   "metadata": {},
   "outputs": [],
   "source": [
    "grouped_grey_zone_df = grey_zone_df.groupby(['X_grid','Y_grid']).apply(f).reset_index()"
   ]
  },
  {
   "cell_type": "code",
   "execution_count": null,
   "metadata": {},
   "outputs": [],
   "source": [
    "geometry = [Point(xy) for xy in zip(grouped_problematic_df.X_grid, grouped_problematic_df.Y_grid)]\n",
    "gdf_problematic = gpd.GeoDataFrame(grouped_problematic_df, crs='EPSG:2056',geometry=geometry)\n",
    "gdf_problematic['geometry'] = gdf_problematic.geometry.buffer(voxel_dimension/2, cap_style=3)"
   ]
  },
  {
   "cell_type": "code",
   "execution_count": null,
   "metadata": {},
   "outputs": [],
   "source": [
    "geometry = [Point(xy) for xy in zip(grouped_grey_zone_df.X_grid, grouped_grey_zone_df.Y_grid)]\n",
    "gdf_grey_zone = gpd.GeoDataFrame(grouped_grey_zone_df, crs='EPSG:2056',geometry=geometry)\n",
    "gdf_grey_zone['geometry'] = gdf_grey_zone.geometry.buffer(voxel_dimension/2, cap_style=3)"
   ]
  },
  {
   "cell_type": "code",
   "execution_count": null,
   "metadata": {},
   "outputs": [],
   "source": [
    "# Test without concatenating the shapes\n",
    "geometry = [Point(xyz) for xyz in zip(problematic_df.X_grid, problematic_df.Y_grid, problematic_df.Z_grid)]\n",
    "gdf_complete_problematic = gpd.GeoDataFrame(problematic_df[['X_grid','Y_grid','Z_grid','change_criticity','change_criticity_label','vertical_descript']], crs='EPSG:2056', geometry=geometry)\n",
    "gdf_complete_problematic['valid_detection']=1\n",
    "gdf_complete_problematic['geometry'] = gdf_complete_problematic.geometry.buffer(voxel_dimension/2, cap_style=3)"
   ]
  },
  {
   "cell_type": "code",
   "execution_count": null,
   "metadata": {},
   "outputs": [],
   "source": [
    "geometry = [Point(xyz) for xyz in zip(grey_zone_df.X_grid, grey_zone_df.Y_grid, grey_zone_df.Z_grid)]\n",
    "gdf_complete_grey_zone = gpd.GeoDataFrame(grey_zone_df[['X_grid','Y_grid','Z_grid','change_criticity','change_criticity_label','vertical_descript']], crs='EPSG:2056',geometry=geometry)\n",
    "gdf_complete_grey_zone['valid_detection']=1\n",
    "gdf_complete_grey_zone['geometry'] = gdf_complete_grey_zone.geometry.buffer(voxel_dimension/2, cap_style=3)"
   ]
  },
  {
   "cell_type": "code",
   "execution_count": null,
   "metadata": {},
   "outputs": [],
   "source": [
    "gdf_complete_problematic.to_file(f'/mnt/data-01/nmunger/out_shapefile/problematic_without_concat_{tile_name}_{voxel_dimension}.shp')"
   ]
  },
  {
   "cell_type": "code",
   "execution_count": null,
   "metadata": {},
   "outputs": [],
   "source": [
    "gdf_complete_grey_zone.to_file(f'/mnt/data-01/nmunger/out_shapefile/grey_zone_without_concat_{tile_name}_{voxel_dimension}.shp')"
   ]
  },
  {
   "cell_type": "code",
   "execution_count": null,
   "metadata": {},
   "outputs": [],
   "source": [
    "gdf_problematic.to_file(f'/mnt/data-01/nmunger/out_shapefile/problematic_{tile_name}_{voxel_dimension}.shp')"
   ]
  },
  {
   "cell_type": "code",
   "execution_count": null,
   "metadata": {},
   "outputs": [],
   "source": [
    "gdf_grey_zone.to_file(f'/mnt/data-01/nmunger/out_shapefile/grey_zone_{tile_name}_{voxel_dimension}.shp')"
   ]
  },
  {
   "cell_type": "markdown",
   "metadata": {},
   "source": [
    "### Save to voxel mesh"
   ]
  },
  {
   "cell_type": "code",
   "execution_count": null,
   "metadata": {},
   "outputs": [],
   "source": [
    "def generate_voxels_mesh(voxels_center, voxel_width, voxel_height):\n",
    "    '''voxels_center: dataframe of size nx3, X|Y|Z '''\n",
    "    for i in range(len(voxels_center)):\n",
    "        center = voxels_center.iloc[i,:3].to_numpy()\n",
    "        \n",
    "        # Create the cube mesh\n",
    "        cube_mesh = o3d.geometry.TriangleMesh.create_box(width=voxel_width, height=voxel_height, depth=voxel_width)\n",
    "\n",
    "        # Translate the cube to the desired center point\n",
    "        cube_mesh.translate(center-np.array([voxel_width/2, voxel_width/2, voxel_height/2]))\n",
    "\n",
    "        if i == 0: # If generating first voxel mesh\n",
    "            total_mesh=cube_mesh\n",
    "            continue\n",
    "        else:\n",
    "            total_mesh+=cube_mesh\n",
    "    \n",
    "    return total_mesh"
   ]
  },
  {
   "cell_type": "code",
   "execution_count": null,
   "metadata": {},
   "outputs": [],
   "source": [
    "for change_type in df.change_criticity.unique():\n",
    "    voxel_mesh = generate_voxels_mesh( df.loc[df['change_criticity']==change_type, ['X_grid','Y_grid','Z_grid']], vox_dimension, vox_dimension)\n",
    "    o3d.io.write_triangle_mesh(os.path.join(subfolder_path,f'{change_type}.ply'), voxel_mesh, write_vertex_colors=True)"
   ]
  }
 ],
 "metadata": {
  "kernelspec": {
   "display_name": "qalidar",
   "language": "python",
   "name": "python3"
  },
  "language_info": {
   "codemirror_mode": {
    "name": "ipython",
    "version": 3
   },
   "file_extension": ".py",
   "mimetype": "text/x-python",
   "name": "python",
   "nbconvert_exporter": "python",
   "pygments_lexer": "ipython3",
   "version": "3.10.12"
  }
 },
 "nbformat": 4,
 "nbformat_minor": 2
}
