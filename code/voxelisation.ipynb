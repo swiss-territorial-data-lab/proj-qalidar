{
 "cells": [
  {
   "cell_type": "code",
   "execution_count": 1,
   "metadata": {},
   "outputs": [
    {
     "name": "stdout",
     "output_type": "stream",
     "text": [
      "Jupyter environment detected. Enabling Open3D WebVisualizer.\n",
      "[Open3D INFO] WebRTC GUI backend enabled.\n",
      "[Open3D INFO] WebRTCWindowSystem: HTTP handshake server disabled.\n"
     ]
    }
   ],
   "source": [
    "import os\n",
    "\n",
    "import util_las as las\n",
    "import pandas as pd\n",
    "import numpy as np\n",
    "import pathlib"
   ]
  },
  {
   "cell_type": "code",
   "execution_count": 5,
   "metadata": {},
   "outputs": [],
   "source": [
    "# Path for the previous and the new point cloud\n",
    "WORKING_DIR = 'C:/Users/gwena/Documents/STDL/2_En_cours/qalidar/02_Data'\n",
    "\n",
    "\n",
    "prev_path = '2018_NE_retiled/2546500_1212000.las'\n",
    "new_path = '2022_Neuchatel/2546500_1212000.laz'\n",
    "tile_name = os.path.basename(new_path).split('.')[0] # Is used for the naming of the .csv outgoing file\n",
    "\n",
    "classes_correspondance_path = 'classes_equivalence.csv' \n",
    "vox_xy = 1.5 # Voxel size in meters\n",
    "vox_z = 1.5\n",
    "\n",
    "os.chdir(WORKING_DIR)"
   ]
  },
  {
   "cell_type": "code",
   "execution_count": 6,
   "metadata": {},
   "outputs": [],
   "source": [
    "prev_pc_df = las.las_to_df_xyzclass(prev_path)\n",
    "new_pc_df = las.las_to_df_xyzclass(new_path)\n",
    "\n",
    "# Remove all points which are noise in the previous generation as they do not bring useful information\n",
    "prev_pc_df = prev_pc_df[prev_pc_df['classification']!=7]\n",
    "\n",
    "# Match the supplementary class to classes from the previous generation\n",
    "new_pc_df = las.reclassify(new_pc_df, classes_correspondance_path) \n",
    "\n",
    "# Set the lowest coordinates of the point clouds in each axis as the origin of the common grid \n",
    "x_origin = min(prev_pc_df.X.min(), new_pc_df.X.min())\n",
    "y_origin = min(prev_pc_df.Y.min(), new_pc_df.Y.min())\n",
    "z_origin = min(prev_pc_df.Z.min(), new_pc_df.Z.min())\n",
    "# Same logic for the highest coordinates\n",
    "x_max = max(prev_pc_df.X.max(), new_pc_df.X.max())\n",
    "y_max = max(prev_pc_df.Y.max(), new_pc_df.Y.max())\n",
    "z_max = max(prev_pc_df.Z.max(), new_pc_df.Z.max())\n",
    "\n",
    "grid_origin = x_origin, y_origin, z_origin\n",
    "\n",
    "grid_max = x_max, y_max, z_max"
   ]
  },
  {
   "cell_type": "code",
   "execution_count": 7,
   "metadata": {},
   "outputs": [
    {
     "data": {
      "text/html": [
       "<div>\n",
       "<style scoped>\n",
       "    .dataframe tbody tr th:only-of-type {\n",
       "        vertical-align: middle;\n",
       "    }\n",
       "\n",
       "    .dataframe tbody tr th {\n",
       "        vertical-align: top;\n",
       "    }\n",
       "\n",
       "    .dataframe thead th {\n",
       "        text-align: right;\n",
       "    }\n",
       "</style>\n",
       "<table border=\"1\" class=\"dataframe\">\n",
       "  <thead>\n",
       "    <tr style=\"text-align: right;\">\n",
       "      <th></th>\n",
       "      <th>X</th>\n",
       "      <th>Y</th>\n",
       "      <th>Z</th>\n",
       "      <th>classification</th>\n",
       "    </tr>\n",
       "  </thead>\n",
       "  <tbody>\n",
       "    <tr>\n",
       "      <th>0</th>\n",
       "      <td>2546546.189</td>\n",
       "      <td>1212359.347</td>\n",
       "      <td>1001.970</td>\n",
       "      <td>2</td>\n",
       "    </tr>\n",
       "    <tr>\n",
       "      <th>1</th>\n",
       "      <td>2546546.077</td>\n",
       "      <td>1212359.614</td>\n",
       "      <td>1001.854</td>\n",
       "      <td>2</td>\n",
       "    </tr>\n",
       "    <tr>\n",
       "      <th>2</th>\n",
       "      <td>2546545.980</td>\n",
       "      <td>1212359.842</td>\n",
       "      <td>1001.831</td>\n",
       "      <td>2</td>\n",
       "    </tr>\n",
       "    <tr>\n",
       "      <th>3</th>\n",
       "      <td>2546545.889</td>\n",
       "      <td>1212360.058</td>\n",
       "      <td>1001.770</td>\n",
       "      <td>2</td>\n",
       "    </tr>\n",
       "    <tr>\n",
       "      <th>4</th>\n",
       "      <td>2546545.804</td>\n",
       "      <td>1212360.260</td>\n",
       "      <td>1001.689</td>\n",
       "      <td>2</td>\n",
       "    </tr>\n",
       "  </tbody>\n",
       "</table>\n",
       "</div>"
      ],
      "text/plain": [
       "             X            Y         Z  classification\n",
       "0  2546546.189  1212359.347  1001.970               2\n",
       "1  2546546.077  1212359.614  1001.854               2\n",
       "2  2546545.980  1212359.842  1001.831               2\n",
       "3  2546545.889  1212360.058  1001.770               2\n",
       "4  2546545.804  1212360.260  1001.689               2"
      ]
     },
     "execution_count": 7,
     "metadata": {},
     "output_type": "execute_result"
    }
   ],
   "source": [
    "new_pc_df.head()"
   ]
  },
  {
   "cell_type": "code",
   "execution_count": 9,
   "metadata": {},
   "outputs": [],
   "source": [
    "prev_voxelised_df = las.to_voxelised_df(prev_pc_df, grid_origin, grid_max, vox_xy, vox_z)\n",
    "new_voxelised_df = las.to_voxelised_df(new_pc_df, grid_origin, grid_max, vox_xy, vox_z)"
   ]
  },
  {
   "cell_type": "code",
   "execution_count": 11,
   "metadata": {},
   "outputs": [],
   "source": [
    "def align_columns(df1, df2):\n",
    "    # Modifiy the dataframes if one column is missing compared to the other. If it is the case it adds an empty column\n",
    "    \n",
    "    df1 = df1.copy(deep=True) # Do the modification on a copy of the dataframe\n",
    "    df2 = df2.copy(deep=True)\n",
    "\n",
    "    missing_columns_df1 = set(df2.columns) - set(df1.columns)\n",
    "\n",
    "    for column in missing_columns_df1:\n",
    "        df1[column] = pd.Series(dtype=df2[column].dtype)\n",
    "\n",
    "    missing_columns_df2 = set(df1.columns) - set(df2.columns)\n",
    "\n",
    "    for column in missing_columns_df2:\n",
    "        df2[column] = pd.Series(dtype=df1[column].dtype)\n",
    "\n",
    "    # Make sure that the order of the classification columns is sorted\n",
    "    sorted_class_columns1 = df1.iloc[:,3:].reindex(sorted(df1.iloc[:,3:].columns), axis=1)\n",
    "    df1.drop(df1.columns[3:], axis=1, inplace=True)\n",
    "    df1 = pd.concat([df1, sorted_class_columns1],axis=1)\n",
    "\n",
    "    sorted_class_columns2 = df2.iloc[:,3:].reindex(sorted(df2.iloc[:,3:].columns), axis=1)\n",
    "    df2.drop(df2.columns[3:], axis=1, inplace=True)\n",
    "    df2 = pd.concat([df2, sorted_class_columns2],axis=1)\n",
    "\n",
    "    return df1, df2"
   ]
  },
  {
   "cell_type": "code",
   "execution_count": 12,
   "metadata": {},
   "outputs": [],
   "source": [
    "# If one class is missing in either of the dataframe compared to the other, create new empty column\n",
    "prev_voxelised_df, new_voxelised_df = align_columns(prev_voxelised_df, new_voxelised_df)"
   ]
  },
  {
   "cell_type": "code",
   "execution_count": 13,
   "metadata": {},
   "outputs": [
    {
     "data": {
      "text/html": [
       "<div>\n",
       "<style scoped>\n",
       "    .dataframe tbody tr th:only-of-type {\n",
       "        vertical-align: middle;\n",
       "    }\n",
       "\n",
       "    .dataframe tbody tr th {\n",
       "        vertical-align: top;\n",
       "    }\n",
       "\n",
       "    .dataframe thead th {\n",
       "        text-align: right;\n",
       "    }\n",
       "</style>\n",
       "<table border=\"1\" class=\"dataframe\">\n",
       "  <thead>\n",
       "    <tr style=\"text-align: right;\">\n",
       "      <th></th>\n",
       "      <th>X_grid</th>\n",
       "      <th>Y_grid</th>\n",
       "      <th>Z_grid</th>\n",
       "      <th>1</th>\n",
       "      <th>2</th>\n",
       "      <th>3</th>\n",
       "      <th>6</th>\n",
       "      <th>7</th>\n",
       "      <th>17</th>\n",
       "    </tr>\n",
       "  </thead>\n",
       "  <tbody>\n",
       "    <tr>\n",
       "      <th>0</th>\n",
       "      <td>2546500.75</td>\n",
       "      <td>1212000.75</td>\n",
       "      <td>1015.75</td>\n",
       "      <td>NaN</td>\n",
       "      <td>19.0</td>\n",
       "      <td>NaN</td>\n",
       "      <td>NaN</td>\n",
       "      <td>NaN</td>\n",
       "      <td>NaN</td>\n",
       "    </tr>\n",
       "    <tr>\n",
       "      <th>1</th>\n",
       "      <td>2546500.75</td>\n",
       "      <td>1212002.25</td>\n",
       "      <td>1015.75</td>\n",
       "      <td>NaN</td>\n",
       "      <td>15.0</td>\n",
       "      <td>NaN</td>\n",
       "      <td>NaN</td>\n",
       "      <td>NaN</td>\n",
       "      <td>NaN</td>\n",
       "    </tr>\n",
       "  </tbody>\n",
       "</table>\n",
       "</div>"
      ],
      "text/plain": [
       "       X_grid      Y_grid   Z_grid   1     2   3   6   7  17\n",
       "0  2546500.75  1212000.75  1015.75 NaN  19.0 NaN NaN NaN NaN\n",
       "1  2546500.75  1212002.25  1015.75 NaN  15.0 NaN NaN NaN NaN"
      ]
     },
     "metadata": {},
     "output_type": "display_data"
    },
    {
     "data": {
      "text/html": [
       "<div>\n",
       "<style scoped>\n",
       "    .dataframe tbody tr th:only-of-type {\n",
       "        vertical-align: middle;\n",
       "    }\n",
       "\n",
       "    .dataframe tbody tr th {\n",
       "        vertical-align: top;\n",
       "    }\n",
       "\n",
       "    .dataframe thead th {\n",
       "        text-align: right;\n",
       "    }\n",
       "</style>\n",
       "<table border=\"1\" class=\"dataframe\">\n",
       "  <thead>\n",
       "    <tr style=\"text-align: right;\">\n",
       "      <th></th>\n",
       "      <th>X_grid</th>\n",
       "      <th>Y_grid</th>\n",
       "      <th>Z_grid</th>\n",
       "      <th>1</th>\n",
       "      <th>2</th>\n",
       "      <th>3</th>\n",
       "      <th>6</th>\n",
       "      <th>7</th>\n",
       "      <th>17</th>\n",
       "    </tr>\n",
       "  </thead>\n",
       "  <tbody>\n",
       "    <tr>\n",
       "      <th>0</th>\n",
       "      <td>2546500.75</td>\n",
       "      <td>1212000.75</td>\n",
       "      <td>1015.75</td>\n",
       "      <td>NaN</td>\n",
       "      <td>130.0</td>\n",
       "      <td>NaN</td>\n",
       "      <td>NaN</td>\n",
       "      <td>NaN</td>\n",
       "      <td>NaN</td>\n",
       "    </tr>\n",
       "    <tr>\n",
       "      <th>1</th>\n",
       "      <td>2546500.75</td>\n",
       "      <td>1212002.25</td>\n",
       "      <td>1015.75</td>\n",
       "      <td>NaN</td>\n",
       "      <td>122.0</td>\n",
       "      <td>NaN</td>\n",
       "      <td>NaN</td>\n",
       "      <td>NaN</td>\n",
       "      <td>NaN</td>\n",
       "    </tr>\n",
       "  </tbody>\n",
       "</table>\n",
       "</div>"
      ],
      "text/plain": [
       "       X_grid      Y_grid   Z_grid   1      2   3   6   7  17\n",
       "0  2546500.75  1212000.75  1015.75 NaN  130.0 NaN NaN NaN NaN\n",
       "1  2546500.75  1212002.25  1015.75 NaN  122.0 NaN NaN NaN NaN"
      ]
     },
     "metadata": {},
     "output_type": "display_data"
    }
   ],
   "source": [
    "display(prev_voxelised_df.head(2))\n",
    "display(new_voxelised_df.head(2))"
   ]
  },
  {
   "cell_type": "code",
   "execution_count": 14,
   "metadata": {},
   "outputs": [],
   "source": [
    "# Free up space\n",
    "del prev_pc_df\n",
    "del new_pc_df"
   ]
  },
  {
   "cell_type": "code",
   "execution_count": 15,
   "metadata": {},
   "outputs": [],
   "source": [
    "merged_df = prev_voxelised_df.merge(new_voxelised_df, on=['X_grid','Y_grid','Z_grid'], how='outer', suffixes=('_prev','_new'))"
   ]
  },
  {
   "cell_type": "code",
   "execution_count": 16,
   "metadata": {},
   "outputs": [],
   "source": [
    "merged_df = merged_df.replace(np.NaN, 0)"
   ]
  },
  {
   "cell_type": "code",
   "execution_count": 17,
   "metadata": {},
   "outputs": [
    {
     "data": {
      "text/html": [
       "<div>\n",
       "<style scoped>\n",
       "    .dataframe tbody tr th:only-of-type {\n",
       "        vertical-align: middle;\n",
       "    }\n",
       "\n",
       "    .dataframe tbody tr th {\n",
       "        vertical-align: top;\n",
       "    }\n",
       "\n",
       "    .dataframe thead th {\n",
       "        text-align: right;\n",
       "    }\n",
       "</style>\n",
       "<table border=\"1\" class=\"dataframe\">\n",
       "  <thead>\n",
       "    <tr style=\"text-align: right;\">\n",
       "      <th></th>\n",
       "      <th>X_grid</th>\n",
       "      <th>Y_grid</th>\n",
       "      <th>Z_grid</th>\n",
       "      <th>1_prev</th>\n",
       "      <th>2_prev</th>\n",
       "      <th>3_prev</th>\n",
       "      <th>6_prev</th>\n",
       "      <th>7_prev</th>\n",
       "      <th>17_prev</th>\n",
       "      <th>1_new</th>\n",
       "      <th>2_new</th>\n",
       "      <th>3_new</th>\n",
       "      <th>6_new</th>\n",
       "      <th>7_new</th>\n",
       "      <th>17_new</th>\n",
       "    </tr>\n",
       "  </thead>\n",
       "  <tbody>\n",
       "    <tr>\n",
       "      <th>0</th>\n",
       "      <td>2546500.75</td>\n",
       "      <td>1212000.75</td>\n",
       "      <td>1015.75</td>\n",
       "      <td>0.0</td>\n",
       "      <td>19.0</td>\n",
       "      <td>0.0</td>\n",
       "      <td>0.0</td>\n",
       "      <td>0.0</td>\n",
       "      <td>0.0</td>\n",
       "      <td>0.0</td>\n",
       "      <td>130.0</td>\n",
       "      <td>0.0</td>\n",
       "      <td>0.0</td>\n",
       "      <td>0.0</td>\n",
       "      <td>0.0</td>\n",
       "    </tr>\n",
       "    <tr>\n",
       "      <th>1</th>\n",
       "      <td>2546500.75</td>\n",
       "      <td>1212002.25</td>\n",
       "      <td>1015.75</td>\n",
       "      <td>0.0</td>\n",
       "      <td>15.0</td>\n",
       "      <td>0.0</td>\n",
       "      <td>0.0</td>\n",
       "      <td>0.0</td>\n",
       "      <td>0.0</td>\n",
       "      <td>0.0</td>\n",
       "      <td>122.0</td>\n",
       "      <td>0.0</td>\n",
       "      <td>0.0</td>\n",
       "      <td>0.0</td>\n",
       "      <td>0.0</td>\n",
       "    </tr>\n",
       "    <tr>\n",
       "      <th>2</th>\n",
       "      <td>2546500.75</td>\n",
       "      <td>1212003.75</td>\n",
       "      <td>1015.75</td>\n",
       "      <td>0.0</td>\n",
       "      <td>15.0</td>\n",
       "      <td>0.0</td>\n",
       "      <td>0.0</td>\n",
       "      <td>0.0</td>\n",
       "      <td>0.0</td>\n",
       "      <td>0.0</td>\n",
       "      <td>127.0</td>\n",
       "      <td>0.0</td>\n",
       "      <td>0.0</td>\n",
       "      <td>0.0</td>\n",
       "      <td>0.0</td>\n",
       "    </tr>\n",
       "    <tr>\n",
       "      <th>3</th>\n",
       "      <td>2546500.75</td>\n",
       "      <td>1212005.25</td>\n",
       "      <td>1015.75</td>\n",
       "      <td>0.0</td>\n",
       "      <td>17.0</td>\n",
       "      <td>0.0</td>\n",
       "      <td>0.0</td>\n",
       "      <td>0.0</td>\n",
       "      <td>0.0</td>\n",
       "      <td>0.0</td>\n",
       "      <td>126.0</td>\n",
       "      <td>0.0</td>\n",
       "      <td>0.0</td>\n",
       "      <td>0.0</td>\n",
       "      <td>0.0</td>\n",
       "    </tr>\n",
       "    <tr>\n",
       "      <th>4</th>\n",
       "      <td>2546500.75</td>\n",
       "      <td>1212006.75</td>\n",
       "      <td>1015.75</td>\n",
       "      <td>0.0</td>\n",
       "      <td>17.0</td>\n",
       "      <td>0.0</td>\n",
       "      <td>0.0</td>\n",
       "      <td>0.0</td>\n",
       "      <td>0.0</td>\n",
       "      <td>0.0</td>\n",
       "      <td>126.0</td>\n",
       "      <td>0.0</td>\n",
       "      <td>0.0</td>\n",
       "      <td>0.0</td>\n",
       "      <td>0.0</td>\n",
       "    </tr>\n",
       "  </tbody>\n",
       "</table>\n",
       "</div>"
      ],
      "text/plain": [
       "       X_grid      Y_grid   Z_grid  1_prev  2_prev  3_prev  6_prev  7_prev  \\\n",
       "0  2546500.75  1212000.75  1015.75     0.0    19.0     0.0     0.0     0.0   \n",
       "1  2546500.75  1212002.25  1015.75     0.0    15.0     0.0     0.0     0.0   \n",
       "2  2546500.75  1212003.75  1015.75     0.0    15.0     0.0     0.0     0.0   \n",
       "3  2546500.75  1212005.25  1015.75     0.0    17.0     0.0     0.0     0.0   \n",
       "4  2546500.75  1212006.75  1015.75     0.0    17.0     0.0     0.0     0.0   \n",
       "\n",
       "   17_prev  1_new  2_new  3_new  6_new  7_new  17_new  \n",
       "0      0.0    0.0  130.0    0.0    0.0    0.0     0.0  \n",
       "1      0.0    0.0  122.0    0.0    0.0    0.0     0.0  \n",
       "2      0.0    0.0  127.0    0.0    0.0    0.0     0.0  \n",
       "3      0.0    0.0  126.0    0.0    0.0    0.0     0.0  \n",
       "4      0.0    0.0  126.0    0.0    0.0    0.0     0.0  "
      ]
     },
     "execution_count": 17,
     "metadata": {},
     "output_type": "execute_result"
    }
   ],
   "source": [
    "merged_df.head()"
   ]
  },
  {
   "cell_type": "code",
   "execution_count": 19,
   "metadata": {},
   "outputs": [],
   "source": [
    "# Create the path for the folder to store the .csv file in case it doesn't yet exist\n",
    "pathlib.Path('out_dataframe/voxelised_comparison').mkdir(parents=True, exist_ok=True)\n",
    "\n",
    "# In file name, set voxel size in centimeters, so as to avoid decimal (.) presence in the file name\n",
    "merged_df.to_csv(f'out_dataframe/voxelised_comparison/{tile_name}_{int(vox_xy*100)}-{int(vox_z*100)}'+'.csv', index=False)"
   ]
  },
  {
   "cell_type": "markdown",
   "metadata": {},
   "source": [
    "## Sankey Diagram visualisation:\n",
    "Note: the code is awful, not a priority, but might be good to go over it"
   ]
  },
  {
   "cell_type": "code",
   "execution_count": 20,
   "metadata": {},
   "outputs": [],
   "source": [
    "newer_pc= las.las_to_df_xyzclass(new_path)"
   ]
  },
  {
   "cell_type": "code",
   "execution_count": 21,
   "metadata": {},
   "outputs": [],
   "source": [
    "points_per_class = newer_pc.groupby('classification')['classification'].count().to_frame('nb_points').reset_index()"
   ]
  },
  {
   "cell_type": "code",
   "execution_count": 22,
   "metadata": {},
   "outputs": [],
   "source": [
    "class_equivalences = pd.read_csv(classes_correspondance_path, sep=';')"
   ]
  },
  {
   "cell_type": "code",
   "execution_count": 23,
   "metadata": {},
   "outputs": [],
   "source": [
    "matched_class_name = pd.DataFrame({'class_name':['Unclassified (1)','Ground (2)','Vegetation (3)','Buildings (6)','Noise (7)','Water (9)','Brigdes(17)'], 'id':[101,102,103,106,107,109,117]})"
   ]
  },
  {
   "cell_type": "code",
   "execution_count": 24,
   "metadata": {},
   "outputs": [
    {
     "data": {
      "text/html": [
       "<div>\n",
       "<style scoped>\n",
       "    .dataframe tbody tr th:only-of-type {\n",
       "        vertical-align: middle;\n",
       "    }\n",
       "\n",
       "    .dataframe tbody tr th {\n",
       "        vertical-align: top;\n",
       "    }\n",
       "\n",
       "    .dataframe thead th {\n",
       "        text-align: right;\n",
       "    }\n",
       "</style>\n",
       "<table border=\"1\" class=\"dataframe\">\n",
       "  <thead>\n",
       "    <tr style=\"text-align: right;\">\n",
       "      <th></th>\n",
       "      <th>id</th>\n",
       "      <th>class_name</th>\n",
       "      <th>matched_id</th>\n",
       "      <th>classification</th>\n",
       "      <th>nb_points</th>\n",
       "    </tr>\n",
       "  </thead>\n",
       "  <tbody>\n",
       "    <tr>\n",
       "      <th>0</th>\n",
       "      <td>1</td>\n",
       "      <td>Unclassified</td>\n",
       "      <td>101</td>\n",
       "      <td>1</td>\n",
       "      <td>71684</td>\n",
       "    </tr>\n",
       "    <tr>\n",
       "      <th>1</th>\n",
       "      <td>2</td>\n",
       "      <td>Ground</td>\n",
       "      <td>102</td>\n",
       "      <td>2</td>\n",
       "      <td>5791255</td>\n",
       "    </tr>\n",
       "    <tr>\n",
       "      <th>2</th>\n",
       "      <td>3</td>\n",
       "      <td>Low vegetation</td>\n",
       "      <td>103</td>\n",
       "      <td>3</td>\n",
       "      <td>302804</td>\n",
       "    </tr>\n",
       "    <tr>\n",
       "      <th>3</th>\n",
       "      <td>4</td>\n",
       "      <td>Medium vegetation</td>\n",
       "      <td>103</td>\n",
       "      <td>4</td>\n",
       "      <td>1235871</td>\n",
       "    </tr>\n",
       "    <tr>\n",
       "      <th>4</th>\n",
       "      <td>5</td>\n",
       "      <td>High vegetation</td>\n",
       "      <td>103</td>\n",
       "      <td>5</td>\n",
       "      <td>10281674</td>\n",
       "    </tr>\n",
       "    <tr>\n",
       "      <th>5</th>\n",
       "      <td>6</td>\n",
       "      <td>Building roofs</td>\n",
       "      <td>106</td>\n",
       "      <td>6</td>\n",
       "      <td>1504741</td>\n",
       "    </tr>\n",
       "    <tr>\n",
       "      <th>6</th>\n",
       "      <td>7</td>\n",
       "      <td>Low Point (Noise)</td>\n",
       "      <td>107</td>\n",
       "      <td>7</td>\n",
       "      <td>2855</td>\n",
       "    </tr>\n",
       "    <tr>\n",
       "      <th>7</th>\n",
       "      <td>11</td>\n",
       "      <td>Piles, heaps (natural materials)</td>\n",
       "      <td>101</td>\n",
       "      <td>11</td>\n",
       "      <td>317</td>\n",
       "    </tr>\n",
       "    <tr>\n",
       "      <th>8</th>\n",
       "      <td>15</td>\n",
       "      <td>Masts, antenas</td>\n",
       "      <td>101</td>\n",
       "      <td>15</td>\n",
       "      <td>904</td>\n",
       "    </tr>\n",
       "    <tr>\n",
       "      <th>9</th>\n",
       "      <td>17</td>\n",
       "      <td>Bridges</td>\n",
       "      <td>117</td>\n",
       "      <td>17</td>\n",
       "      <td>1994</td>\n",
       "    </tr>\n",
       "  </tbody>\n",
       "</table>\n",
       "</div>"
      ],
      "text/plain": [
       "   id                        class_name  matched_id  classification  nb_points\n",
       "0   1                      Unclassified         101               1      71684\n",
       "1   2                            Ground         102               2    5791255\n",
       "2   3                    Low vegetation         103               3     302804\n",
       "3   4                 Medium vegetation         103               4    1235871\n",
       "4   5                   High vegetation         103               5   10281674\n",
       "5   6                    Building roofs         106               6    1504741\n",
       "6   7                 Low Point (Noise)         107               7       2855\n",
       "7  11  Piles, heaps (natural materials)         101              11        317\n",
       "8  15                    Masts, antenas         101              15        904\n",
       "9  17                           Bridges         117              17       1994"
      ]
     },
     "execution_count": 24,
     "metadata": {},
     "output_type": "execute_result"
    }
   ],
   "source": [
    "df_sancay = class_equivalences.merge(points_per_class, how='inner',left_on='id',right_on='classification')\n",
    "df_sancay.matched_id=df_sancay.matched_id+100 # Simply to attribute other labels\n",
    "df_sancay.head(10)"
   ]
  },
  {
   "cell_type": "code",
   "execution_count": 27,
   "metadata": {},
   "outputs": [
    {
     "data": {
      "text/html": [
       "<div>\n",
       "<style scoped>\n",
       "    .dataframe tbody tr th:only-of-type {\n",
       "        vertical-align: middle;\n",
       "    }\n",
       "\n",
       "    .dataframe tbody tr th {\n",
       "        vertical-align: top;\n",
       "    }\n",
       "\n",
       "    .dataframe thead th {\n",
       "        text-align: right;\n",
       "    }\n",
       "</style>\n",
       "<table border=\"1\" class=\"dataframe\">\n",
       "  <thead>\n",
       "    <tr style=\"text-align: right;\">\n",
       "      <th></th>\n",
       "      <th>id</th>\n",
       "      <th>class_name</th>\n",
       "    </tr>\n",
       "  </thead>\n",
       "  <tbody>\n",
       "    <tr>\n",
       "      <th>0</th>\n",
       "      <td>1</td>\n",
       "      <td>Unclassified</td>\n",
       "    </tr>\n",
       "    <tr>\n",
       "      <th>1</th>\n",
       "      <td>2</td>\n",
       "      <td>Ground</td>\n",
       "    </tr>\n",
       "    <tr>\n",
       "      <th>2</th>\n",
       "      <td>3</td>\n",
       "      <td>Low vegetation</td>\n",
       "    </tr>\n",
       "    <tr>\n",
       "      <th>3</th>\n",
       "      <td>4</td>\n",
       "      <td>Medium vegetation</td>\n",
       "    </tr>\n",
       "    <tr>\n",
       "      <th>4</th>\n",
       "      <td>5</td>\n",
       "      <td>High vegetation</td>\n",
       "    </tr>\n",
       "  </tbody>\n",
       "</table>\n",
       "</div>"
      ],
      "text/plain": [
       "   id         class_name\n",
       "0   1       Unclassified\n",
       "1   2             Ground\n",
       "2   3     Low vegetation\n",
       "3   4  Medium vegetation\n",
       "4   5    High vegetation"
      ]
     },
     "execution_count": 27,
     "metadata": {},
     "output_type": "execute_result"
    }
   ],
   "source": [
    "all_nodes = pd.concat([df_sancay[['id','class_name']],matched_class_name]).reset_index(drop=True)\n",
    "all_nodes.head()"
   ]
  },
  {
   "cell_type": "code",
   "execution_count": 28,
   "metadata": {},
   "outputs": [
    {
     "data": {
      "text/html": [
       "<div>\n",
       "<style scoped>\n",
       "    .dataframe tbody tr th:only-of-type {\n",
       "        vertical-align: middle;\n",
       "    }\n",
       "\n",
       "    .dataframe tbody tr th {\n",
       "        vertical-align: top;\n",
       "    }\n",
       "\n",
       "    .dataframe thead th {\n",
       "        text-align: right;\n",
       "    }\n",
       "</style>\n",
       "<table border=\"1\" class=\"dataframe\">\n",
       "  <thead>\n",
       "    <tr style=\"text-align: right;\">\n",
       "      <th></th>\n",
       "      <th>id_x</th>\n",
       "      <th>class_name_x</th>\n",
       "      <th>matched_id</th>\n",
       "      <th>classification</th>\n",
       "      <th>nb_points</th>\n",
       "      <th>index</th>\n",
       "      <th>id_y</th>\n",
       "      <th>class_name_y</th>\n",
       "    </tr>\n",
       "  </thead>\n",
       "  <tbody>\n",
       "    <tr>\n",
       "      <th>0</th>\n",
       "      <td>1</td>\n",
       "      <td>Unclassified</td>\n",
       "      <td>101</td>\n",
       "      <td>1</td>\n",
       "      <td>71684</td>\n",
       "      <td>18</td>\n",
       "      <td>101</td>\n",
       "      <td>Unclassified (1)</td>\n",
       "    </tr>\n",
       "    <tr>\n",
       "      <th>1</th>\n",
       "      <td>11</td>\n",
       "      <td>Piles, heaps (natural materials)</td>\n",
       "      <td>101</td>\n",
       "      <td>11</td>\n",
       "      <td>317</td>\n",
       "      <td>18</td>\n",
       "      <td>101</td>\n",
       "      <td>Unclassified (1)</td>\n",
       "    </tr>\n",
       "    <tr>\n",
       "      <th>2</th>\n",
       "      <td>15</td>\n",
       "      <td>Masts, antenas</td>\n",
       "      <td>101</td>\n",
       "      <td>15</td>\n",
       "      <td>904</td>\n",
       "      <td>18</td>\n",
       "      <td>101</td>\n",
       "      <td>Unclassified (1)</td>\n",
       "    </tr>\n",
       "    <tr>\n",
       "      <th>3</th>\n",
       "      <td>19</td>\n",
       "      <td>Street lights</td>\n",
       "      <td>101</td>\n",
       "      <td>19</td>\n",
       "      <td>1185</td>\n",
       "      <td>18</td>\n",
       "      <td>101</td>\n",
       "      <td>Unclassified (1)</td>\n",
       "    </tr>\n",
       "    <tr>\n",
       "      <th>4</th>\n",
       "      <td>21</td>\n",
       "      <td>Cars</td>\n",
       "      <td>101</td>\n",
       "      <td>21</td>\n",
       "      <td>23701</td>\n",
       "      <td>18</td>\n",
       "      <td>101</td>\n",
       "      <td>Unclassified (1)</td>\n",
       "    </tr>\n",
       "  </tbody>\n",
       "</table>\n",
       "</div>"
      ],
      "text/plain": [
       "   id_x                      class_name_x  matched_id  classification  \\\n",
       "0     1                      Unclassified         101               1   \n",
       "1    11  Piles, heaps (natural materials)         101              11   \n",
       "2    15                    Masts, antenas         101              15   \n",
       "3    19                     Street lights         101              19   \n",
       "4    21                              Cars         101              21   \n",
       "\n",
       "   nb_points  index  id_y      class_name_y  \n",
       "0      71684     18   101  Unclassified (1)  \n",
       "1        317     18   101  Unclassified (1)  \n",
       "2        904     18   101  Unclassified (1)  \n",
       "3       1185     18   101  Unclassified (1)  \n",
       "4      23701     18   101  Unclassified (1)  "
      ]
     },
     "execution_count": 28,
     "metadata": {},
     "output_type": "execute_result"
    }
   ],
   "source": [
    "df_sancay.merge(all_nodes.reset_index(),left_on='matched_id', right_on='id', how='inner').head()"
   ]
  },
  {
   "cell_type": "code",
   "execution_count": 29,
   "metadata": {},
   "outputs": [
    {
     "data": {
      "text/plain": [
       "0     18\n",
       "7     19\n",
       "9     20\n",
       "10    20\n",
       "11    20\n",
       "12    21\n",
       "15    22\n",
       "1     18\n",
       "2     18\n",
       "16    24\n",
       "3     18\n",
       "4     18\n",
       "13    21\n",
       "5     18\n",
       "14    21\n",
       "6     18\n",
       "8     19\n",
       "Name: index, dtype: int64"
      ]
     },
     "execution_count": 29,
     "metadata": {},
     "output_type": "execute_result"
    }
   ],
   "source": [
    "df_sancay.merge(all_nodes.reset_index(),left_on='matched_id', right_on='id', how='inner').sort_values(by='id_x')['index']"
   ]
  },
  {
   "cell_type": "code",
   "execution_count": 30,
   "metadata": {},
   "outputs": [
    {
     "data": {
      "text/html": [
       "<div>\n",
       "<style scoped>\n",
       "    .dataframe tbody tr th:only-of-type {\n",
       "        vertical-align: middle;\n",
       "    }\n",
       "\n",
       "    .dataframe tbody tr th {\n",
       "        vertical-align: top;\n",
       "    }\n",
       "\n",
       "    .dataframe thead th {\n",
       "        text-align: right;\n",
       "    }\n",
       "</style>\n",
       "<table border=\"1\" class=\"dataframe\">\n",
       "  <thead>\n",
       "    <tr style=\"text-align: right;\">\n",
       "      <th></th>\n",
       "      <th>id</th>\n",
       "      <th>class_name</th>\n",
       "      <th>matched_id</th>\n",
       "      <th>classification</th>\n",
       "      <th>nb_points</th>\n",
       "    </tr>\n",
       "  </thead>\n",
       "  <tbody>\n",
       "    <tr>\n",
       "      <th>0</th>\n",
       "      <td>1</td>\n",
       "      <td>Unclassified</td>\n",
       "      <td>101</td>\n",
       "      <td>1</td>\n",
       "      <td>71684</td>\n",
       "    </tr>\n",
       "    <tr>\n",
       "      <th>1</th>\n",
       "      <td>2</td>\n",
       "      <td>Ground</td>\n",
       "      <td>102</td>\n",
       "      <td>2</td>\n",
       "      <td>5791255</td>\n",
       "    </tr>\n",
       "    <tr>\n",
       "      <th>2</th>\n",
       "      <td>3</td>\n",
       "      <td>Low vegetation</td>\n",
       "      <td>103</td>\n",
       "      <td>3</td>\n",
       "      <td>302804</td>\n",
       "    </tr>\n",
       "    <tr>\n",
       "      <th>3</th>\n",
       "      <td>4</td>\n",
       "      <td>Medium vegetation</td>\n",
       "      <td>103</td>\n",
       "      <td>4</td>\n",
       "      <td>1235871</td>\n",
       "    </tr>\n",
       "    <tr>\n",
       "      <th>4</th>\n",
       "      <td>5</td>\n",
       "      <td>High vegetation</td>\n",
       "      <td>103</td>\n",
       "      <td>5</td>\n",
       "      <td>10281674</td>\n",
       "    </tr>\n",
       "    <tr>\n",
       "      <th>5</th>\n",
       "      <td>6</td>\n",
       "      <td>Building roofs</td>\n",
       "      <td>106</td>\n",
       "      <td>6</td>\n",
       "      <td>1504741</td>\n",
       "    </tr>\n",
       "    <tr>\n",
       "      <th>6</th>\n",
       "      <td>7</td>\n",
       "      <td>Low Point (Noise)</td>\n",
       "      <td>107</td>\n",
       "      <td>7</td>\n",
       "      <td>2855</td>\n",
       "    </tr>\n",
       "    <tr>\n",
       "      <th>7</th>\n",
       "      <td>11</td>\n",
       "      <td>Piles, heaps (natural materials)</td>\n",
       "      <td>101</td>\n",
       "      <td>11</td>\n",
       "      <td>317</td>\n",
       "    </tr>\n",
       "    <tr>\n",
       "      <th>8</th>\n",
       "      <td>15</td>\n",
       "      <td>Masts, antenas</td>\n",
       "      <td>101</td>\n",
       "      <td>15</td>\n",
       "      <td>904</td>\n",
       "    </tr>\n",
       "    <tr>\n",
       "      <th>9</th>\n",
       "      <td>17</td>\n",
       "      <td>Bridges</td>\n",
       "      <td>117</td>\n",
       "      <td>17</td>\n",
       "      <td>1994</td>\n",
       "    </tr>\n",
       "    <tr>\n",
       "      <th>10</th>\n",
       "      <td>18</td>\n",
       "      <td>Ground level noise</td>\n",
       "      <td>99</td>\n",
       "      <td>18</td>\n",
       "      <td>3818495</td>\n",
       "    </tr>\n",
       "    <tr>\n",
       "      <th>11</th>\n",
       "      <td>19</td>\n",
       "      <td>Street lights</td>\n",
       "      <td>101</td>\n",
       "      <td>19</td>\n",
       "      <td>1185</td>\n",
       "    </tr>\n",
       "    <tr>\n",
       "      <th>12</th>\n",
       "      <td>21</td>\n",
       "      <td>Cars</td>\n",
       "      <td>101</td>\n",
       "      <td>21</td>\n",
       "      <td>23701</td>\n",
       "    </tr>\n",
       "    <tr>\n",
       "      <th>13</th>\n",
       "      <td>22</td>\n",
       "      <td>Building facades</td>\n",
       "      <td>106</td>\n",
       "      <td>22</td>\n",
       "      <td>134175</td>\n",
       "    </tr>\n",
       "    <tr>\n",
       "      <th>14</th>\n",
       "      <td>25</td>\n",
       "      <td>Cranes, trains, temporary objects</td>\n",
       "      <td>101</td>\n",
       "      <td>25</td>\n",
       "      <td>39225</td>\n",
       "    </tr>\n",
       "    <tr>\n",
       "      <th>15</th>\n",
       "      <td>26</td>\n",
       "      <td>Roof structures</td>\n",
       "      <td>106</td>\n",
       "      <td>26</td>\n",
       "      <td>30094</td>\n",
       "    </tr>\n",
       "    <tr>\n",
       "      <th>16</th>\n",
       "      <td>29</td>\n",
       "      <td>Walls</td>\n",
       "      <td>101</td>\n",
       "      <td>29</td>\n",
       "      <td>13876</td>\n",
       "    </tr>\n",
       "    <tr>\n",
       "      <th>17</th>\n",
       "      <td>31</td>\n",
       "      <td>Additional ground points</td>\n",
       "      <td>102</td>\n",
       "      <td>31</td>\n",
       "      <td>7169151</td>\n",
       "    </tr>\n",
       "  </tbody>\n",
       "</table>\n",
       "</div>"
      ],
      "text/plain": [
       "    id                         class_name  matched_id  classification  \\\n",
       "0    1                       Unclassified         101               1   \n",
       "1    2                             Ground         102               2   \n",
       "2    3                     Low vegetation         103               3   \n",
       "3    4                  Medium vegetation         103               4   \n",
       "4    5                    High vegetation         103               5   \n",
       "5    6                     Building roofs         106               6   \n",
       "6    7                  Low Point (Noise)         107               7   \n",
       "7   11   Piles, heaps (natural materials)         101              11   \n",
       "8   15                     Masts, antenas         101              15   \n",
       "9   17                            Bridges         117              17   \n",
       "10  18                 Ground level noise          99              18   \n",
       "11  19                      Street lights         101              19   \n",
       "12  21                               Cars         101              21   \n",
       "13  22                   Building facades         106              22   \n",
       "14  25  Cranes, trains, temporary objects         101              25   \n",
       "15  26                    Roof structures         106              26   \n",
       "16  29                              Walls         101              29   \n",
       "17  31           Additional ground points         102              31   \n",
       "\n",
       "    nb_points  \n",
       "0       71684  \n",
       "1     5791255  \n",
       "2      302804  \n",
       "3     1235871  \n",
       "4    10281674  \n",
       "5     1504741  \n",
       "6        2855  \n",
       "7         317  \n",
       "8         904  \n",
       "9        1994  \n",
       "10    3818495  \n",
       "11       1185  \n",
       "12      23701  \n",
       "13     134175  \n",
       "14      39225  \n",
       "15      30094  \n",
       "16      13876  \n",
       "17    7169151  "
      ]
     },
     "execution_count": 30,
     "metadata": {},
     "output_type": "execute_result"
    }
   ],
   "source": [
    "df_sancay"
   ]
  },
  {
   "cell_type": "code",
   "execution_count": 31,
   "metadata": {},
   "outputs": [
    {
     "data": {
      "application/vnd.plotly.v1+json": {
       "config": {
        "plotlyServerURL": "https://plot.ly"
       },
       "data": [
        {
         "link": {
          "source": [
           0,
           1,
           2,
           3,
           4,
           5,
           6,
           7,
           8,
           9,
           10,
           11,
           12,
           13,
           14,
           15,
           16,
           17
          ],
          "target": [
           18,
           19,
           20,
           20,
           20,
           21,
           22,
           18,
           18,
           24,
           18,
           18,
           21,
           18,
           21,
           18,
           19
          ],
          "value": [
           71684,
           5791255,
           302804,
           1235871,
           10281674,
           1504741,
           2855,
           317,
           904,
           1994,
           3818495,
           1185,
           23701,
           134175,
           39225,
           30094,
           13876,
           7169151
          ]
         },
         "node": {
          "color": "blue",
          "label": [
           "Unclassified",
           "Ground",
           "Low vegetation",
           "Medium vegetation",
           "High vegetation",
           "Building roofs",
           "Low Point (Noise)",
           "Piles, heaps (natural materials)",
           "Masts, antenas",
           "Bridges",
           "Ground level noise",
           "Street lights",
           "Cars",
           "Building facades",
           "Cranes, trains, temporary objects",
           "Roof structures",
           "Walls",
           "Additional ground points",
           "Unclassified (1)",
           "Ground (2)",
           "Vegetation (3)",
           "Buildings (6)",
           "Noise (7)",
           "Water (9)",
           "Brigdes(17)"
          ],
          "line": {
           "color": "black",
           "width": 0.5
          },
          "pad": 15,
          "thickness": 20
         },
         "type": "sankey"
        }
       ],
       "layout": {
        "autosize": false,
        "font": {
         "size": 10
        },
        "height": 800,
        "template": {
         "data": {
          "bar": [
           {
            "error_x": {
             "color": "#2a3f5f"
            },
            "error_y": {
             "color": "#2a3f5f"
            },
            "marker": {
             "line": {
              "color": "#E5ECF6",
              "width": 0.5
             },
             "pattern": {
              "fillmode": "overlay",
              "size": 10,
              "solidity": 0.2
             }
            },
            "type": "bar"
           }
          ],
          "barpolar": [
           {
            "marker": {
             "line": {
              "color": "#E5ECF6",
              "width": 0.5
             },
             "pattern": {
              "fillmode": "overlay",
              "size": 10,
              "solidity": 0.2
             }
            },
            "type": "barpolar"
           }
          ],
          "carpet": [
           {
            "aaxis": {
             "endlinecolor": "#2a3f5f",
             "gridcolor": "white",
             "linecolor": "white",
             "minorgridcolor": "white",
             "startlinecolor": "#2a3f5f"
            },
            "baxis": {
             "endlinecolor": "#2a3f5f",
             "gridcolor": "white",
             "linecolor": "white",
             "minorgridcolor": "white",
             "startlinecolor": "#2a3f5f"
            },
            "type": "carpet"
           }
          ],
          "choropleth": [
           {
            "colorbar": {
             "outlinewidth": 0,
             "ticks": ""
            },
            "type": "choropleth"
           }
          ],
          "contour": [
           {
            "colorbar": {
             "outlinewidth": 0,
             "ticks": ""
            },
            "colorscale": [
             [
              0,
              "#0d0887"
             ],
             [
              0.1111111111111111,
              "#46039f"
             ],
             [
              0.2222222222222222,
              "#7201a8"
             ],
             [
              0.3333333333333333,
              "#9c179e"
             ],
             [
              0.4444444444444444,
              "#bd3786"
             ],
             [
              0.5555555555555556,
              "#d8576b"
             ],
             [
              0.6666666666666666,
              "#ed7953"
             ],
             [
              0.7777777777777778,
              "#fb9f3a"
             ],
             [
              0.8888888888888888,
              "#fdca26"
             ],
             [
              1,
              "#f0f921"
             ]
            ],
            "type": "contour"
           }
          ],
          "contourcarpet": [
           {
            "colorbar": {
             "outlinewidth": 0,
             "ticks": ""
            },
            "type": "contourcarpet"
           }
          ],
          "heatmap": [
           {
            "colorbar": {
             "outlinewidth": 0,
             "ticks": ""
            },
            "colorscale": [
             [
              0,
              "#0d0887"
             ],
             [
              0.1111111111111111,
              "#46039f"
             ],
             [
              0.2222222222222222,
              "#7201a8"
             ],
             [
              0.3333333333333333,
              "#9c179e"
             ],
             [
              0.4444444444444444,
              "#bd3786"
             ],
             [
              0.5555555555555556,
              "#d8576b"
             ],
             [
              0.6666666666666666,
              "#ed7953"
             ],
             [
              0.7777777777777778,
              "#fb9f3a"
             ],
             [
              0.8888888888888888,
              "#fdca26"
             ],
             [
              1,
              "#f0f921"
             ]
            ],
            "type": "heatmap"
           }
          ],
          "heatmapgl": [
           {
            "colorbar": {
             "outlinewidth": 0,
             "ticks": ""
            },
            "colorscale": [
             [
              0,
              "#0d0887"
             ],
             [
              0.1111111111111111,
              "#46039f"
             ],
             [
              0.2222222222222222,
              "#7201a8"
             ],
             [
              0.3333333333333333,
              "#9c179e"
             ],
             [
              0.4444444444444444,
              "#bd3786"
             ],
             [
              0.5555555555555556,
              "#d8576b"
             ],
             [
              0.6666666666666666,
              "#ed7953"
             ],
             [
              0.7777777777777778,
              "#fb9f3a"
             ],
             [
              0.8888888888888888,
              "#fdca26"
             ],
             [
              1,
              "#f0f921"
             ]
            ],
            "type": "heatmapgl"
           }
          ],
          "histogram": [
           {
            "marker": {
             "pattern": {
              "fillmode": "overlay",
              "size": 10,
              "solidity": 0.2
             }
            },
            "type": "histogram"
           }
          ],
          "histogram2d": [
           {
            "colorbar": {
             "outlinewidth": 0,
             "ticks": ""
            },
            "colorscale": [
             [
              0,
              "#0d0887"
             ],
             [
              0.1111111111111111,
              "#46039f"
             ],
             [
              0.2222222222222222,
              "#7201a8"
             ],
             [
              0.3333333333333333,
              "#9c179e"
             ],
             [
              0.4444444444444444,
              "#bd3786"
             ],
             [
              0.5555555555555556,
              "#d8576b"
             ],
             [
              0.6666666666666666,
              "#ed7953"
             ],
             [
              0.7777777777777778,
              "#fb9f3a"
             ],
             [
              0.8888888888888888,
              "#fdca26"
             ],
             [
              1,
              "#f0f921"
             ]
            ],
            "type": "histogram2d"
           }
          ],
          "histogram2dcontour": [
           {
            "colorbar": {
             "outlinewidth": 0,
             "ticks": ""
            },
            "colorscale": [
             [
              0,
              "#0d0887"
             ],
             [
              0.1111111111111111,
              "#46039f"
             ],
             [
              0.2222222222222222,
              "#7201a8"
             ],
             [
              0.3333333333333333,
              "#9c179e"
             ],
             [
              0.4444444444444444,
              "#bd3786"
             ],
             [
              0.5555555555555556,
              "#d8576b"
             ],
             [
              0.6666666666666666,
              "#ed7953"
             ],
             [
              0.7777777777777778,
              "#fb9f3a"
             ],
             [
              0.8888888888888888,
              "#fdca26"
             ],
             [
              1,
              "#f0f921"
             ]
            ],
            "type": "histogram2dcontour"
           }
          ],
          "mesh3d": [
           {
            "colorbar": {
             "outlinewidth": 0,
             "ticks": ""
            },
            "type": "mesh3d"
           }
          ],
          "parcoords": [
           {
            "line": {
             "colorbar": {
              "outlinewidth": 0,
              "ticks": ""
             }
            },
            "type": "parcoords"
           }
          ],
          "pie": [
           {
            "automargin": true,
            "type": "pie"
           }
          ],
          "scatter": [
           {
            "fillpattern": {
             "fillmode": "overlay",
             "size": 10,
             "solidity": 0.2
            },
            "type": "scatter"
           }
          ],
          "scatter3d": [
           {
            "line": {
             "colorbar": {
              "outlinewidth": 0,
              "ticks": ""
             }
            },
            "marker": {
             "colorbar": {
              "outlinewidth": 0,
              "ticks": ""
             }
            },
            "type": "scatter3d"
           }
          ],
          "scattercarpet": [
           {
            "marker": {
             "colorbar": {
              "outlinewidth": 0,
              "ticks": ""
             }
            },
            "type": "scattercarpet"
           }
          ],
          "scattergeo": [
           {
            "marker": {
             "colorbar": {
              "outlinewidth": 0,
              "ticks": ""
             }
            },
            "type": "scattergeo"
           }
          ],
          "scattergl": [
           {
            "marker": {
             "colorbar": {
              "outlinewidth": 0,
              "ticks": ""
             }
            },
            "type": "scattergl"
           }
          ],
          "scattermapbox": [
           {
            "marker": {
             "colorbar": {
              "outlinewidth": 0,
              "ticks": ""
             }
            },
            "type": "scattermapbox"
           }
          ],
          "scatterpolar": [
           {
            "marker": {
             "colorbar": {
              "outlinewidth": 0,
              "ticks": ""
             }
            },
            "type": "scatterpolar"
           }
          ],
          "scatterpolargl": [
           {
            "marker": {
             "colorbar": {
              "outlinewidth": 0,
              "ticks": ""
             }
            },
            "type": "scatterpolargl"
           }
          ],
          "scatterternary": [
           {
            "marker": {
             "colorbar": {
              "outlinewidth": 0,
              "ticks": ""
             }
            },
            "type": "scatterternary"
           }
          ],
          "surface": [
           {
            "colorbar": {
             "outlinewidth": 0,
             "ticks": ""
            },
            "colorscale": [
             [
              0,
              "#0d0887"
             ],
             [
              0.1111111111111111,
              "#46039f"
             ],
             [
              0.2222222222222222,
              "#7201a8"
             ],
             [
              0.3333333333333333,
              "#9c179e"
             ],
             [
              0.4444444444444444,
              "#bd3786"
             ],
             [
              0.5555555555555556,
              "#d8576b"
             ],
             [
              0.6666666666666666,
              "#ed7953"
             ],
             [
              0.7777777777777778,
              "#fb9f3a"
             ],
             [
              0.8888888888888888,
              "#fdca26"
             ],
             [
              1,
              "#f0f921"
             ]
            ],
            "type": "surface"
           }
          ],
          "table": [
           {
            "cells": {
             "fill": {
              "color": "#EBF0F8"
             },
             "line": {
              "color": "white"
             }
            },
            "header": {
             "fill": {
              "color": "#C8D4E3"
             },
             "line": {
              "color": "white"
             }
            },
            "type": "table"
           }
          ]
         },
         "layout": {
          "annotationdefaults": {
           "arrowcolor": "#2a3f5f",
           "arrowhead": 0,
           "arrowwidth": 1
          },
          "autotypenumbers": "strict",
          "coloraxis": {
           "colorbar": {
            "outlinewidth": 0,
            "ticks": ""
           }
          },
          "colorscale": {
           "diverging": [
            [
             0,
             "#8e0152"
            ],
            [
             0.1,
             "#c51b7d"
            ],
            [
             0.2,
             "#de77ae"
            ],
            [
             0.3,
             "#f1b6da"
            ],
            [
             0.4,
             "#fde0ef"
            ],
            [
             0.5,
             "#f7f7f7"
            ],
            [
             0.6,
             "#e6f5d0"
            ],
            [
             0.7,
             "#b8e186"
            ],
            [
             0.8,
             "#7fbc41"
            ],
            [
             0.9,
             "#4d9221"
            ],
            [
             1,
             "#276419"
            ]
           ],
           "sequential": [
            [
             0,
             "#0d0887"
            ],
            [
             0.1111111111111111,
             "#46039f"
            ],
            [
             0.2222222222222222,
             "#7201a8"
            ],
            [
             0.3333333333333333,
             "#9c179e"
            ],
            [
             0.4444444444444444,
             "#bd3786"
            ],
            [
             0.5555555555555556,
             "#d8576b"
            ],
            [
             0.6666666666666666,
             "#ed7953"
            ],
            [
             0.7777777777777778,
             "#fb9f3a"
            ],
            [
             0.8888888888888888,
             "#fdca26"
            ],
            [
             1,
             "#f0f921"
            ]
           ],
           "sequentialminus": [
            [
             0,
             "#0d0887"
            ],
            [
             0.1111111111111111,
             "#46039f"
            ],
            [
             0.2222222222222222,
             "#7201a8"
            ],
            [
             0.3333333333333333,
             "#9c179e"
            ],
            [
             0.4444444444444444,
             "#bd3786"
            ],
            [
             0.5555555555555556,
             "#d8576b"
            ],
            [
             0.6666666666666666,
             "#ed7953"
            ],
            [
             0.7777777777777778,
             "#fb9f3a"
            ],
            [
             0.8888888888888888,
             "#fdca26"
            ],
            [
             1,
             "#f0f921"
            ]
           ]
          },
          "colorway": [
           "#636efa",
           "#EF553B",
           "#00cc96",
           "#ab63fa",
           "#FFA15A",
           "#19d3f3",
           "#FF6692",
           "#B6E880",
           "#FF97FF",
           "#FECB52"
          ],
          "font": {
           "color": "#2a3f5f"
          },
          "geo": {
           "bgcolor": "white",
           "lakecolor": "white",
           "landcolor": "#E5ECF6",
           "showlakes": true,
           "showland": true,
           "subunitcolor": "white"
          },
          "hoverlabel": {
           "align": "left"
          },
          "hovermode": "closest",
          "mapbox": {
           "style": "light"
          },
          "paper_bgcolor": "white",
          "plot_bgcolor": "#E5ECF6",
          "polar": {
           "angularaxis": {
            "gridcolor": "white",
            "linecolor": "white",
            "ticks": ""
           },
           "bgcolor": "#E5ECF6",
           "radialaxis": {
            "gridcolor": "white",
            "linecolor": "white",
            "ticks": ""
           }
          },
          "scene": {
           "xaxis": {
            "backgroundcolor": "#E5ECF6",
            "gridcolor": "white",
            "gridwidth": 2,
            "linecolor": "white",
            "showbackground": true,
            "ticks": "",
            "zerolinecolor": "white"
           },
           "yaxis": {
            "backgroundcolor": "#E5ECF6",
            "gridcolor": "white",
            "gridwidth": 2,
            "linecolor": "white",
            "showbackground": true,
            "ticks": "",
            "zerolinecolor": "white"
           },
           "zaxis": {
            "backgroundcolor": "#E5ECF6",
            "gridcolor": "white",
            "gridwidth": 2,
            "linecolor": "white",
            "showbackground": true,
            "ticks": "",
            "zerolinecolor": "white"
           }
          },
          "shapedefaults": {
           "line": {
            "color": "#2a3f5f"
           }
          },
          "ternary": {
           "aaxis": {
            "gridcolor": "white",
            "linecolor": "white",
            "ticks": ""
           },
           "baxis": {
            "gridcolor": "white",
            "linecolor": "white",
            "ticks": ""
           },
           "bgcolor": "#E5ECF6",
           "caxis": {
            "gridcolor": "white",
            "linecolor": "white",
            "ticks": ""
           }
          },
          "title": {
           "x": 0.05
          },
          "xaxis": {
           "automargin": true,
           "gridcolor": "white",
           "linecolor": "white",
           "ticks": "",
           "title": {
            "standoff": 15
           },
           "zerolinecolor": "white",
           "zerolinewidth": 2
          },
          "yaxis": {
           "automargin": true,
           "gridcolor": "white",
           "linecolor": "white",
           "ticks": "",
           "title": {
            "standoff": 15
           },
           "zerolinecolor": "white",
           "zerolinewidth": 2
          }
         }
        },
        "title": {
         "text": "Basic Sankey Diagram"
        },
        "width": 800
       }
      }
     },
     "metadata": {},
     "output_type": "display_data"
    }
   ],
   "source": [
    "import plotly.graph_objects as go\n",
    "\n",
    "fig = go.Figure(data=[go.Sankey(\n",
    "    node = dict(\n",
    "      pad = 15,\n",
    "      thickness = 20,\n",
    "      line = dict(color = \"black\", width = 0.5),\n",
    "      label = all_nodes.class_name,#[\"A1\", \"A2\", \"B1\", \"B2\", \"C1\", \"C2\"],\n",
    "      color = \"blue\"\n",
    "    ),\n",
    "    link = dict(\n",
    "      source = np.arange(0,18), # indices correspond to labels, eg A1, A2, A1, B1, ...\n",
    "      target = df_sancay.merge(all_nodes.reset_index(),left_on='matched_id', right_on='id', how='inner').sort_values(by='id_x')['index'],\n",
    "      value = df_sancay.nb_points\n",
    "  ))])\n",
    "\n",
    "fig.update_layout(\n",
    "    autosize=False,\n",
    "    width=800,\n",
    "    height=800,\n",
    ")\n",
    "\n",
    "fig.update_layout(title_text=\"Basic Sankey Diagram\", font_size=10)\n",
    "fig.show()"
   ]
  },
  {
   "cell_type": "code",
   "execution_count": null,
   "metadata": {},
   "outputs": [],
   "source": []
  }
 ],
 "metadata": {
  "kernelspec": {
   "display_name": "qalidar",
   "language": "python",
   "name": "python3"
  },
  "language_info": {
   "codemirror_mode": {
    "name": "ipython",
    "version": 3
   },
   "file_extension": ".py",
   "mimetype": "text/x-python",
   "name": "python",
   "nbconvert_exporter": "python",
   "pygments_lexer": "ipython3",
   "version": "3.12.0"
  }
 },
 "nbformat": 4,
 "nbformat_minor": 2
}
